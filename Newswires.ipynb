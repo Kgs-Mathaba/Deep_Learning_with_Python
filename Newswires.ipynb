{
  "nbformat": 4,
  "nbformat_minor": 0,
  "metadata": {
    "colab": {
      "name": "Newswires.ipynb",
      "provenance": [],
      "authorship_tag": "ABX9TyOXjKU7nw63g9gf1nDagY0J"
    },
    "kernelspec": {
      "name": "python3",
      "display_name": "Python 3"
    },
    "language_info": {
      "name": "python"
    }
  },
  "cells": [
    {
      "cell_type": "code",
      "metadata": {
        "colab": {
          "base_uri": "https://localhost:8080/"
        },
        "id": "-NRqbHET1l21",
        "outputId": "d36539be-c0b3-40ee-811a-b1b03567b6c4"
      },
      "source": [
        "from keras.datasets import reuters\n",
        "(train_data, train_labels), (test_data, test_labels) = reuters.load_data(num_words=10000)"
      ],
      "execution_count": 2,
      "outputs": [
        {
          "output_type": "stream",
          "name": "stdout",
          "text": [
            "Downloading data from https://storage.googleapis.com/tensorflow/tf-keras-datasets/reuters.npz\n",
            "2113536/2110848 [==============================] - 0s 0us/step\n",
            "2121728/2110848 [==============================] - 0s 0us/step\n"
          ]
        }
      ]
    },
    {
      "cell_type": "code",
      "metadata": {
        "colab": {
          "base_uri": "https://localhost:8080/"
        },
        "id": "MZNKY6KPJTUa",
        "outputId": "da5684c9-6567-469f-d213-efef6af450b8"
      },
      "source": [
        "len(train_data)"
      ],
      "execution_count": 3,
      "outputs": [
        {
          "output_type": "execute_result",
          "data": {
            "text/plain": [
              "8982"
            ]
          },
          "metadata": {},
          "execution_count": 3
        }
      ]
    },
    {
      "cell_type": "code",
      "metadata": {
        "id": "TyUKzxWXKG44",
        "colab": {
          "base_uri": "https://localhost:8080/"
        },
        "outputId": "9ac34d54-ef55-4a43-ebcd-530fd3e9fc7b"
      },
      "source": [
        "len(test_data)"
      ],
      "execution_count": 4,
      "outputs": [
        {
          "output_type": "execute_result",
          "data": {
            "text/plain": [
              "2246"
            ]
          },
          "metadata": {},
          "execution_count": 4
        }
      ]
    },
    {
      "cell_type": "code",
      "metadata": {
        "id": "t1pX4uceKIoS",
        "colab": {
          "base_uri": "https://localhost:8080/"
        },
        "outputId": "daf07615-792e-4743-8602-1a6aae45bd78"
      },
      "source": [
        "train_data[9]"
      ],
      "execution_count": 5,
      "outputs": [
        {
          "output_type": "execute_result",
          "data": {
            "text/plain": [
              "[1,\n",
              " 56,\n",
              " 7224,\n",
              " 81,\n",
              " 40,\n",
              " 1175,\n",
              " 174,\n",
              " 2,\n",
              " 6,\n",
              " 1793,\n",
              " 10,\n",
              " 266,\n",
              " 3315,\n",
              " 5,\n",
              " 1574,\n",
              " 799,\n",
              " 317,\n",
              " 65,\n",
              " 136,\n",
              " 277,\n",
              " 801,\n",
              " 7,\n",
              " 429,\n",
              " 65,\n",
              " 182,\n",
              " 199,\n",
              " 8,\n",
              " 174,\n",
              " 201,\n",
              " 2540,\n",
              " 10,\n",
              " 1806,\n",
              " 5,\n",
              " 401,\n",
              " 20,\n",
              " 1574,\n",
              " 799,\n",
              " 6,\n",
              " 119,\n",
              " 20,\n",
              " 1574,\n",
              " 1075,\n",
              " 136,\n",
              " 10,\n",
              " 277,\n",
              " 498,\n",
              " 120,\n",
              " 31,\n",
              " 7224,\n",
              " 13,\n",
              " 251,\n",
              " 18,\n",
              " 428,\n",
              " 90,\n",
              " 289,\n",
              " 4,\n",
              " 199,\n",
              " 8,\n",
              " 4,\n",
              " 5880,\n",
              " 1806,\n",
              " 23,\n",
              " 124,\n",
              " 20,\n",
              " 799,\n",
              " 317,\n",
              " 6,\n",
              " 482,\n",
              " 20,\n",
              " 1075,\n",
              " 174,\n",
              " 287,\n",
              " 13,\n",
              " 799,\n",
              " 317,\n",
              " 65,\n",
              " 40,\n",
              " 333,\n",
              " 1398,\n",
              " 224,\n",
              " 4,\n",
              " 137,\n",
              " 130,\n",
              " 2,\n",
              " 356,\n",
              " 8181,\n",
              " 2,\n",
              " 172,\n",
              " 4,\n",
              " 1150,\n",
              " 3727,\n",
              " 403,\n",
              " 54,\n",
              " 139,\n",
              " 3045,\n",
              " 692,\n",
              " 31,\n",
              " 6473,\n",
              " 5,\n",
              " 799,\n",
              " 1306,\n",
              " 9,\n",
              " 2,\n",
              " 2735,\n",
              " 17,\n",
              " 12]"
            ]
          },
          "metadata": {},
          "execution_count": 5
        }
      ]
    },
    {
      "cell_type": "code",
      "metadata": {
        "colab": {
          "base_uri": "https://localhost:8080/"
        },
        "id": "txc3WjWitqXm",
        "outputId": "1c2ef5ef-48d3-40af-ba6d-0909ff792de9"
      },
      "source": [
        "word_index = reuters.get_word_index() \n",
        "reverse_word_index = dict([(value, key) for (key, value) in word_index.items()])\n",
        "decoded_newswire = \" \".join([reverse_word_index.get(i-3, \"?\") for i in train_data[9]])"
      ],
      "execution_count": 6,
      "outputs": [
        {
          "output_type": "stream",
          "name": "stdout",
          "text": [
            "Downloading data from https://storage.googleapis.com/tensorflow/tf-keras-datasets/reuters_word_index.json\n",
            "557056/550378 [==============================] - 0s 0us/step\n",
            "565248/550378 [==============================] - 0s 0us/step\n"
          ]
        }
      ]
    },
    {
      "cell_type": "code",
      "metadata": {
        "colab": {
          "base_uri": "https://localhost:8080/",
          "height": 90
        },
        "id": "QczakooTuQqE",
        "outputId": "89b8238a-da54-4748-fbd3-c7febc6860f8"
      },
      "source": [
        "decoded_newswire"
      ],
      "execution_count": 7,
      "outputs": [
        {
          "output_type": "execute_result",
          "data": {
            "application/vnd.google.colaboratory.intrinsic+json": {
              "type": "string"
            },
            "text/plain": [
              "'? lt aramco corp has accepted japanese ? to lift a higher proportion of arab heavy crude oil under term contracts in july oil industry sources said japanese companies requested a ratio of 80 pct arab heavy to 20 pct arab light under a term contract agreement with aramco for 100 000 barrels per day the sources said the contractual ratio is 30 pct heavy crude to 70 pct light japanese demand for heavy crude oil has increased substantially since the all japan ? union ceased ? into the northern mideast gulf last month causing problems with liftings of heavy kuwait and ? crudes reuter 3'"
            ]
          },
          "metadata": {},
          "execution_count": 7
        }
      ]
    },
    {
      "cell_type": "code",
      "metadata": {
        "id": "xkn2iqfhuaG3"
      },
      "source": [
        "import numpy as np\n",
        "\n",
        "def vectorize_sequences(sequences, dimension=10000):\n",
        "  results = np.zeros((len(sequences), dimension))\n",
        "  for i, sequence in enumerate(sequences):\n",
        "    results[i, sequence] = 1\n",
        "  return results\n"
      ],
      "execution_count": 12,
      "outputs": []
    },
    {
      "cell_type": "code",
      "metadata": {
        "id": "_ayU6HSvS5bT"
      },
      "source": [
        "x_train = vectorize_sequences(train_data)\n",
        "x_test = vectorize_sequences(test_data)"
      ],
      "execution_count": 11,
      "outputs": []
    },
    {
      "cell_type": "code",
      "metadata": {
        "id": "MQEnlTh9THoa"
      },
      "source": [
        "def to_one_hot(labels, dimension=46):\n",
        "  results = np.zeros((len(labels), dimension))\n",
        "  for i, label in enumerate(labels):\n",
        "    results[i, label] = 1\n",
        "  return results\n"
      ],
      "execution_count": 13,
      "outputs": []
    },
    {
      "cell_type": "code",
      "metadata": {
        "id": "ljbSkx1oTkqD"
      },
      "source": [
        "one_hot_train_labels = to_one_hot(train_labels)\n",
        "one_hot_test_labels = to_one_hot(test_labels)"
      ],
      "execution_count": 14,
      "outputs": []
    },
    {
      "cell_type": "code",
      "metadata": {
        "id": "0BZNtuteT45Z"
      },
      "source": [
        "from keras import models\n",
        "from keras import layers\n",
        "\n",
        "model = models.Sequential()\n",
        "model.add(layers.Dense(64, activation='relu', input_shape=(10000,)))\n",
        "model.add(layers.Dense(64, activation='relu'))\n",
        "model.add(layers.Dense(46, activation='softmax'))"
      ],
      "execution_count": 15,
      "outputs": []
    },
    {
      "cell_type": "code",
      "metadata": {
        "id": "scykotvohH-H"
      },
      "source": [
        "model.compile(optimizer='rmsprop',\n",
        "              loss='categorical_crossentropy',\n",
        "              metrics=['accuracy'])"
      ],
      "execution_count": 16,
      "outputs": []
    },
    {
      "cell_type": "code",
      "metadata": {
        "id": "txpVfbRQiN9l"
      },
      "source": [
        "x_val = x_train[:1000]\n",
        "partial_x_train = x_train[1000:]\n",
        "\n",
        "y_val = one_hot_train_labels[:1000]\n",
        "partial_y_train = one_hot_train_labels[1000:]"
      ],
      "execution_count": 17,
      "outputs": []
    },
    {
      "cell_type": "code",
      "metadata": {
        "colab": {
          "base_uri": "https://localhost:8080/"
        },
        "id": "Fgp-ON7fiqe9",
        "outputId": "24ebf1d1-2641-468e-b94a-a9c5477e24c3"
      },
      "source": [
        "history = model.fit(partial_x_train,\n",
        "                    partial_y_train,\n",
        "                    epochs=20,\n",
        "                    batch_size=512,\n",
        "                    validation_data=(x_val, y_val))"
      ],
      "execution_count": 18,
      "outputs": [
        {
          "output_type": "stream",
          "name": "stdout",
          "text": [
            "Epoch 1/20\n",
            "16/16 [==============================] - 2s 64ms/step - loss: 2.6211 - accuracy: 0.5417 - val_loss: 1.6953 - val_accuracy: 0.6480\n",
            "Epoch 2/20\n",
            "16/16 [==============================] - 1s 41ms/step - loss: 1.4004 - accuracy: 0.7088 - val_loss: 1.2730 - val_accuracy: 0.7220\n",
            "Epoch 3/20\n",
            "16/16 [==============================] - 1s 41ms/step - loss: 1.0354 - accuracy: 0.7777 - val_loss: 1.1018 - val_accuracy: 0.7450\n",
            "Epoch 4/20\n",
            "16/16 [==============================] - 1s 41ms/step - loss: 0.8132 - accuracy: 0.8332 - val_loss: 0.9902 - val_accuracy: 0.7930\n",
            "Epoch 5/20\n",
            "16/16 [==============================] - 1s 42ms/step - loss: 0.6439 - accuracy: 0.8678 - val_loss: 0.9147 - val_accuracy: 0.8170\n",
            "Epoch 6/20\n",
            "16/16 [==============================] - 1s 43ms/step - loss: 0.5066 - accuracy: 0.8948 - val_loss: 0.8843 - val_accuracy: 0.8170\n",
            "Epoch 7/20\n",
            "16/16 [==============================] - 1s 41ms/step - loss: 0.4055 - accuracy: 0.9169 - val_loss: 0.8521 - val_accuracy: 0.8240\n",
            "Epoch 8/20\n",
            "16/16 [==============================] - 1s 42ms/step - loss: 0.3300 - accuracy: 0.9297 - val_loss: 0.8427 - val_accuracy: 0.8210\n",
            "Epoch 9/20\n",
            "16/16 [==============================] - 1s 41ms/step - loss: 0.2688 - accuracy: 0.9416 - val_loss: 0.8746 - val_accuracy: 0.8220\n",
            "Epoch 10/20\n",
            "16/16 [==============================] - 1s 42ms/step - loss: 0.2311 - accuracy: 0.9469 - val_loss: 0.8643 - val_accuracy: 0.8240\n",
            "Epoch 11/20\n",
            "16/16 [==============================] - 1s 41ms/step - loss: 0.1984 - accuracy: 0.9500 - val_loss: 0.9605 - val_accuracy: 0.7990\n",
            "Epoch 12/20\n",
            "16/16 [==============================] - 1s 42ms/step - loss: 0.1753 - accuracy: 0.9514 - val_loss: 0.9080 - val_accuracy: 0.8130\n",
            "Epoch 13/20\n",
            "16/16 [==============================] - 1s 42ms/step - loss: 0.1596 - accuracy: 0.9535 - val_loss: 0.9137 - val_accuracy: 0.8130\n",
            "Epoch 14/20\n",
            "16/16 [==============================] - 1s 41ms/step - loss: 0.1437 - accuracy: 0.9555 - val_loss: 0.9036 - val_accuracy: 0.8240\n",
            "Epoch 15/20\n",
            "16/16 [==============================] - 1s 42ms/step - loss: 0.1332 - accuracy: 0.9557 - val_loss: 0.9618 - val_accuracy: 0.8170\n",
            "Epoch 16/20\n",
            "16/16 [==============================] - 1s 41ms/step - loss: 0.1323 - accuracy: 0.9559 - val_loss: 0.9761 - val_accuracy: 0.8090\n",
            "Epoch 17/20\n",
            "16/16 [==============================] - 1s 42ms/step - loss: 0.1202 - accuracy: 0.9564 - val_loss: 0.9768 - val_accuracy: 0.8170\n",
            "Epoch 18/20\n",
            "16/16 [==============================] - 1s 41ms/step - loss: 0.1186 - accuracy: 0.9559 - val_loss: 1.0155 - val_accuracy: 0.8090\n",
            "Epoch 19/20\n",
            "16/16 [==============================] - 1s 42ms/step - loss: 0.1122 - accuracy: 0.9573 - val_loss: 0.9988 - val_accuracy: 0.8170\n",
            "Epoch 20/20\n",
            "16/16 [==============================] - 1s 41ms/step - loss: 0.1098 - accuracy: 0.9572 - val_loss: 1.0721 - val_accuracy: 0.7980\n"
          ]
        }
      ]
    },
    {
      "cell_type": "code",
      "metadata": {
        "colab": {
          "base_uri": "https://localhost:8080/",
          "height": 295
        },
        "id": "He-rUtDQi-Cg",
        "outputId": "455eb95d-6a67-4273-b9ed-6661d5aa82e0"
      },
      "source": [
        "import matplotlib.pyplot as plt\n",
        "\n",
        "loss = history.history['loss']\n",
        "val_loss = history.history['val_accuracy']\n",
        "\n",
        "epochs = range(1, len(loss) + 1)\n",
        "\n",
        "plt.plot(epochs, loss, 'bo', label='Training loss')\n",
        "plt.plot(epochs, val_loss, 'b', label='Validation loss')\n",
        "plt.title('Training and validation loss')\n",
        "plt.xlabel('Epochs')\n",
        "plt.ylabel('Loss')\n",
        "plt.legend()\n",
        "\n",
        "plt.show()"
      ],
      "execution_count": 19,
      "outputs": [
        {
          "output_type": "display_data",
          "data": {
            "image/png": "[encoded data removed]",
            "text/plain": [
              "<Figure size 432x288 with 1 Axes>"
            ]
          },
          "metadata": {
            "needs_background": "light"
          }
        }
      ]
    },
    {
      "cell_type": "code",
      "metadata": {
        "colab": {
          "base_uri": "https://localhost:8080/",
          "height": 295
        },
        "id": "KizrjPkkj3yM",
        "outputId": "bd357fa9-32a9-4a4e-93ee-089dd9d986ca"
      },
      "source": [
        "plt.clf()\n",
        "\n",
        "acc = history.history['accuracy']\n",
        "val_acc = history.history['val_accuracy']\n",
        "\n",
        "plt.plot(epochs, acc, 'bo', label='Training acc')\n",
        "plt.plot(epochs, val_acc, 'b', label='Validation acc')\n",
        "plt.title('Training and validation accuracy')\n",
        "plt.xlabel('Epochs')\n",
        "plt.ylabel('Loss')\n",
        "plt.legend()\n",
        "\n",
        "plt.show()"
      ],
      "execution_count": 23,
      "outputs": [
        {
          "output_type": "display_data",
          "data": {
            "image/png": "[encoded data removed]",
            "text/plain": [
              "<Figure size 432x288 with 1 Axes>"
            ]
          },
          "metadata": {
            "needs_background": "light"
          }
        }
      ]
    },
    {
      "cell_type": "code",
      "metadata": {
        "colab": {
          "base_uri": "https://localhost:8080/"
        },
        "id": "hPuqGo_qlHio",
        "outputId": "d2ecc623-f809-4406-bd29-63c59651fbe2"
      },
      "source": [
        "model = models.Sequential()\n",
        "model.add(layers.Dense(64, activation='relu', input_shape=(10000,)))\n",
        "model.add(layers.Dense(64, activation='relu'))\n",
        "model.add(layers.Dense(46, activation='softmax'))\n",
        "\n",
        "model.compile(optimizer='rmsprop',\n",
        "              loss = 'categorical_crossentropy',\n",
        "              metrics=['accuracy'])\n",
        "\n",
        "model.fit(partial_x_train,\n",
        "          partial_y_train,\n",
        "          epochs=9,\n",
        "          batch_size=512,\n",
        "          validation_data=(x_val, y_val))\n",
        "\n",
        "results = model.evaluate(x_test, one_hot_test_labels)"
      ],
      "execution_count": 24,
      "outputs": [
        {
          "output_type": "stream",
          "name": "stdout",
          "text": [
            "Epoch 1/9\n",
            "16/16 [==============================] - 1s 52ms/step - loss: 2.6584 - accuracy: 0.5329 - val_loss: 1.7338 - val_accuracy: 0.6530\n",
            "Epoch 2/9\n",
            "16/16 [==============================] - 1s 41ms/step - loss: 1.4230 - accuracy: 0.7091 - val_loss: 1.2962 - val_accuracy: 0.7080\n",
            "Epoch 3/9\n",
            "16/16 [==============================] - 1s 41ms/step - loss: 1.0415 - accuracy: 0.7767 - val_loss: 1.1209 - val_accuracy: 0.7580\n",
            "Epoch 4/9\n",
            "16/16 [==============================] - 1s 42ms/step - loss: 0.8117 - accuracy: 0.8304 - val_loss: 1.0333 - val_accuracy: 0.7890\n",
            "Epoch 5/9\n",
            "16/16 [==============================] - 1s 42ms/step - loss: 0.6438 - accuracy: 0.8685 - val_loss: 0.9658 - val_accuracy: 0.7960\n",
            "Epoch 6/9\n",
            "16/16 [==============================] - 1s 41ms/step - loss: 0.5146 - accuracy: 0.8968 - val_loss: 0.9186 - val_accuracy: 0.8100\n",
            "Epoch 7/9\n",
            "16/16 [==============================] - 1s 41ms/step - loss: 0.4144 - accuracy: 0.9162 - val_loss: 0.9275 - val_accuracy: 0.7970\n",
            "Epoch 8/9\n",
            "16/16 [==============================] - 1s 43ms/step - loss: 0.3402 - accuracy: 0.9298 - val_loss: 0.8857 - val_accuracy: 0.8140\n",
            "Epoch 9/9\n",
            "16/16 [==============================] - 1s 41ms/step - loss: 0.2836 - accuracy: 0.9404 - val_loss: 0.8935 - val_accuracy: 0.8200\n",
            "71/71 [==============================] - 0s 2ms/step - loss: 0.9912 - accuracy: 0.7912\n"
          ]
        }
      ]
    },
    {
      "cell_type": "code",
      "metadata": {
        "colab": {
          "base_uri": "https://localhost:8080/"
        },
        "id": "pZWNEMmPtxJE",
        "outputId": "04036b4b-fb4d-43ba-b192-a762410ccd57"
      },
      "source": [
        "results"
      ],
      "execution_count": 25,
      "outputs": [
        {
          "output_type": "execute_result",
          "data": {
            "text/plain": [
              "[0.9911871552467346, 0.7911843061447144]"
            ]
          },
          "metadata": {},
          "execution_count": 25
        }
      ]
    },
    {
      "cell_type": "code",
      "metadata": {
        "colab": {
          "base_uri": "https://localhost:8080/"
        },
        "id": "7V1nTb6Yt-1u",
        "outputId": "8d18f25e-07b8-4366-d42b-537fbfd588a5"
      },
      "source": [
        "import copy\n",
        "test_labels_copy = copy.copy(test_labels)\n",
        "np.random.shuffle(test_labels_copy)\n",
        "hits_array = np.array(test_labels) == np.array(test_labels_copy)\n",
        "float(np.sum(hits_array))/len(test_labels)"
      ],
      "execution_count": 28,
      "outputs": [
        {
          "output_type": "execute_result",
          "data": {
            "text/plain": [
              "0.18833481745325023"
            ]
          },
          "metadata": {},
          "execution_count": 28
        }
      ]
    },
    {
      "cell_type": "code",
      "metadata": {
        "id": "KYFndJY_uqg5"
      },
      "source": [
        "predictions = model.predict(x_test)"
      ],
      "execution_count": 29,
      "outputs": []
    },
    {
      "cell_type": "code",
      "metadata": {
        "colab": {
          "base_uri": "https://localhost:8080/"
        },
        "id": "cgMzhiHyvLSf",
        "outputId": "1bfde83f-ddc4-473e-b574-7c21f02f2133"
      },
      "source": [
        "predictions[0].shape"
      ],
      "execution_count": 30,
      "outputs": [
        {
          "output_type": "execute_result",
          "data": {
            "text/plain": [
              "(46,)"
            ]
          },
          "metadata": {},
          "execution_count": 30
        }
      ]
    },
    {
      "cell_type": "code",
      "metadata": {
        "colab": {
          "base_uri": "https://localhost:8080/"
        },
        "id": "V8dxblpCvN32",
        "outputId": "dd9df62b-6097-4e96-8f31-311272d7c70c"
      },
      "source": [
        "np.sum(predictions[0])"
      ],
      "execution_count": 31,
      "outputs": [
        {
          "output_type": "execute_result",
          "data": {
            "text/plain": [
              "1.0"
            ]
          },
          "metadata": {},
          "execution_count": 31
        }
      ]
    },
    {
      "cell_type": "code",
      "metadata": {
        "colab": {
          "base_uri": "https://localhost:8080/"
        },
        "id": "wKKw3at6vQjp",
        "outputId": "ac2dd71d-7a98-41ac-ec7b-b627efd7a0ea"
      },
      "source": [
        "np.argmax(predictions[0])"
      ],
      "execution_count": 32,
      "outputs": [
        {
          "output_type": "execute_result",
          "data": {
            "text/plain": [
              "3"
            ]
          },
          "metadata": {},
          "execution_count": 32
        }
      ]
    },
    {
      "cell_type": "code",
      "metadata": {
        "colab": {
          "base_uri": "https://localhost:8080/"
        },
        "id": "NjP9TAoUvUFG",
        "outputId": "d5dfc01e-9158-4ac4-df30-0263bcf4b10b"
      },
      "source": [
        "predictions[0]"
      ],
      "execution_count": 34,
      "outputs": [
        {
          "output_type": "execute_result",
          "data": {
            "text/plain": [
              "array([8.57534687e-05, 3.69107474e-05, 6.13284737e-06, 8.56258273e-01,\n",
              "       1.34979382e-01, 2.01975308e-05, 5.07427239e-06, 1.46694088e-04,\n",
              "       1.14205875e-03, 4.95128415e-06, 2.25215972e-05, 6.55477401e-04,\n",
              "       3.36458470e-04, 5.78667532e-05, 7.74913860e-05, 5.54798171e-05,\n",
              "       4.15406743e-04, 3.44504988e-05, 3.61784696e-05, 4.52347798e-04,\n",
              "       1.82469923e-03, 1.18260694e-04, 7.53132917e-05, 1.79170645e-04,\n",
              "       1.74676472e-06, 6.74816911e-05, 4.89873344e-07, 1.29143242e-04,\n",
              "       6.48501009e-05, 1.32115805e-04, 1.11319845e-04, 3.12250369e-04,\n",
              "       6.21400759e-05, 1.76521171e-05, 9.88428830e-04, 1.12752141e-05,\n",
              "       3.21164989e-04, 2.10943435e-05, 7.71837131e-06, 4.09853354e-04,\n",
              "       2.30296191e-05, 2.29143086e-04, 2.58793425e-05, 2.60079014e-05,\n",
              "       7.94527841e-06, 2.77595177e-06], dtype=float32)"
            ]
          },
          "metadata": {},
          "execution_count": 34
        }
      ]
    },
    {
      "cell_type": "code",
      "metadata": {
        "colab": {
          "base_uri": "https://localhost:8080/"
        },
        "id": "9YLcedDQvXdS",
        "outputId": "78fbb155-1843-45b5-a5e0-0ce67fdf23b7"
      },
      "source": [
        "train_labels[0]"
      ],
      "execution_count": 37,
      "outputs": [
        {
          "output_type": "execute_result",
          "data": {
            "text/plain": [
              "3"
            ]
          },
          "metadata": {},
          "execution_count": 37
        }
      ]
    },
    {
      "cell_type": "code",
      "metadata": {
        "colab": {
          "base_uri": "https://localhost:8080/"
        },
        "id": "sfmbH9CZwNdT",
        "outputId": "d9654256-aecf-49be-bbe4-9f03fdf83758"
      },
      "source": [
        "np.array(test_labels[0])"
      ],
      "execution_count": 38,
      "outputs": [
        {
          "output_type": "execute_result",
          "data": {
            "text/plain": [
              "array(3)"
            ]
          },
          "metadata": {},
          "execution_count": 38
        }
      ]
    },
    {
      "cell_type": "code",
      "metadata": {
        "colab": {
          "base_uri": "https://localhost:8080/"
        },
        "id": "YIpkHgKhwR43",
        "outputId": "e1f782ec-928f-4934-fee5-12ab3cb409c1"
      },
      "source": [
        "x_test[0]"
      ],
      "execution_count": 39,
      "outputs": [
        {
          "output_type": "execute_result",
          "data": {
            "text/plain": [
              "array([0., 1., 1., ..., 0., 0., 0.])"
            ]
          },
          "metadata": {},
          "execution_count": 39
        }
      ]
    },
    {
      "cell_type": "markdown",
      "metadata": {
        "id": "DyKTH_pFwXeP"
      },
      "source": [
        "# Model with information bottleneck"
      ]
    },
    {
      "cell_type": "code",
      "metadata": {
        "colab": {
          "base_uri": "https://localhost:8080/"
        },
        "id": "a9L6d95IxNKv",
        "outputId": "e7043ac9-5ea5-4534-f8be-8d1fe830e8e9"
      },
      "source": [
        "model = models.Sequential()\n",
        "model.add(layers.Dense(64, activation='relu', input_shape=(10000,)))\n",
        "model.add(layers.Dense(4, activation='relu'))\n",
        "model.add(layers.Dense(46, activation='softmax'))\n",
        "\n",
        "model.compile(optimizer='rmsprop',\n",
        "              loss='categorical_crossentropy',\n",
        "              metrics=['accuracy'])\n",
        "\n",
        "model.fit(partial_x_train,\n",
        "          partial_y_train,\n",
        "          epochs=20,\n",
        "          batch_size=128,\n",
        "          validation_data=(x_val, y_val))"
      ],
      "execution_count": 40,
      "outputs": [
        {
          "output_type": "stream",
          "name": "stdout",
          "text": [
            "Epoch 1/20\n",
            "63/63 [==============================] - 1s 16ms/step - loss: 2.8280 - accuracy: 0.3572 - val_loss: 2.2740 - val_accuracy: 0.3690\n",
            "Epoch 2/20\n",
            "63/63 [==============================] - 1s 14ms/step - loss: 1.9399 - accuracy: 0.4425 - val_loss: 1.6756 - val_accuracy: 0.5700\n",
            "Epoch 3/20\n",
            "63/63 [==============================] - 1s 14ms/step - loss: 1.4631 - accuracy: 0.5980 - val_loss: 1.4653 - val_accuracy: 0.6070\n",
            "Epoch 4/20\n",
            "63/63 [==============================] - 1s 15ms/step - loss: 1.2218 - accuracy: 0.6733 - val_loss: 1.3557 - val_accuracy: 0.6610\n",
            "Epoch 5/20\n",
            "63/63 [==============================] - 1s 14ms/step - loss: 1.0622 - accuracy: 0.7238 - val_loss: 1.3228 - val_accuracy: 0.6850\n",
            "Epoch 6/20\n",
            "63/63 [==============================] - 1s 15ms/step - loss: 0.9479 - accuracy: 0.7591 - val_loss: 1.2980 - val_accuracy: 0.7030\n",
            "Epoch 7/20\n",
            "63/63 [==============================] - 1s 14ms/step - loss: 0.8607 - accuracy: 0.7767 - val_loss: 1.3034 - val_accuracy: 0.6980\n",
            "Epoch 8/20\n",
            "63/63 [==============================] - 1s 14ms/step - loss: 0.7890 - accuracy: 0.7885 - val_loss: 1.3122 - val_accuracy: 0.7060\n",
            "Epoch 9/20\n",
            "63/63 [==============================] - 1s 14ms/step - loss: 0.7286 - accuracy: 0.8049 - val_loss: 1.3305 - val_accuracy: 0.7090\n",
            "Epoch 10/20\n",
            "63/63 [==============================] - 1s 15ms/step - loss: 0.6763 - accuracy: 0.8175 - val_loss: 1.3417 - val_accuracy: 0.7140\n",
            "Epoch 11/20\n",
            "63/63 [==============================] - 1s 15ms/step - loss: 0.6300 - accuracy: 0.8338 - val_loss: 1.3788 - val_accuracy: 0.7170\n",
            "Epoch 12/20\n",
            "63/63 [==============================] - 1s 14ms/step - loss: 0.5858 - accuracy: 0.8454 - val_loss: 1.4240 - val_accuracy: 0.7140\n",
            "Epoch 13/20\n",
            "63/63 [==============================] - 1s 14ms/step - loss: 0.5537 - accuracy: 0.8512 - val_loss: 1.4624 - val_accuracy: 0.7160\n",
            "Epoch 14/20\n",
            "63/63 [==============================] - 1s 14ms/step - loss: 0.5239 - accuracy: 0.8577 - val_loss: 1.5317 - val_accuracy: 0.7130\n",
            "Epoch 15/20\n",
            "63/63 [==============================] - 1s 14ms/step - loss: 0.4985 - accuracy: 0.8617 - val_loss: 1.5359 - val_accuracy: 0.7160\n",
            "Epoch 16/20\n",
            "63/63 [==============================] - 1s 14ms/step - loss: 0.4756 - accuracy: 0.8672 - val_loss: 1.5974 - val_accuracy: 0.7150\n",
            "Epoch 17/20\n",
            "63/63 [==============================] - 1s 15ms/step - loss: 0.4547 - accuracy: 0.8711 - val_loss: 1.6483 - val_accuracy: 0.7100\n",
            "Epoch 18/20\n",
            "63/63 [==============================] - 1s 14ms/step - loss: 0.4368 - accuracy: 0.8784 - val_loss: 1.6434 - val_accuracy: 0.7160\n",
            "Epoch 19/20\n",
            "63/63 [==============================] - 1s 15ms/step - loss: 0.4177 - accuracy: 0.8804 - val_loss: 1.7753 - val_accuracy: 0.7090\n",
            "Epoch 20/20\n",
            "63/63 [==============================] - 1s 14ms/step - loss: 0.4058 - accuracy: 0.8804 - val_loss: 1.7962 - val_accuracy: 0.7170\n"
          ]
        },
        {
          "output_type": "execute_result",
          "data": {
            "text/plain": [
              "<keras.callbacks.History at 0x7f737d289410>"
            ]
          },
          "metadata": {},
          "execution_count": 40
        }
      ]
    },
    {
      "cell_type": "code",
      "metadata": {
        "colab": {
          "base_uri": "https://localhost:8080/"
        },
        "id": "oGzcCafIyAex",
        "outputId": "b7cca326-c17c-4255-f146-cc68889219b1"
      },
      "source": [
        "model = models.Sequential()\n",
        "model.add(layers.Dense(64, activation='relu', input_shape=(10000,)))\n",
        "model.add(layers.Dense(46, activation='softmax'))\n",
        "\n",
        "model.compile(optimizer='rmsprop',\n",
        "              loss='categorical_crossentropy',\n",
        "              metrics=['accuracy'])\n",
        "\n",
        "results = model.fit(partial_x_train,\n",
        "          partial_y_train,\n",
        "          epochs=20,\n",
        "          batch_size=128,\n",
        "          validation_data=(x_val, y_val))"
      ],
      "execution_count": 56,
      "outputs": [
        {
          "output_type": "stream",
          "name": "stdout",
          "text": [
            "Epoch 1/20\n",
            "63/63 [==============================] - 1s 17ms/step - loss: 1.8773 - accuracy: 0.6397 - val_loss: 1.2217 - val_accuracy: 0.7280\n",
            "Epoch 2/20\n",
            "63/63 [==============================] - 1s 15ms/step - loss: 0.9390 - accuracy: 0.8022 - val_loss: 0.9872 - val_accuracy: 0.7960\n",
            "Epoch 3/20\n",
            "63/63 [==============================] - 1s 14ms/step - loss: 0.6349 - accuracy: 0.8720 - val_loss: 0.8878 - val_accuracy: 0.8180\n",
            "Epoch 4/20\n",
            "63/63 [==============================] - 1s 15ms/step - loss: 0.4529 - accuracy: 0.9077 - val_loss: 0.8347 - val_accuracy: 0.8230\n",
            "Epoch 5/20\n",
            "63/63 [==============================] - 1s 14ms/step - loss: 0.3366 - accuracy: 0.9278 - val_loss: 0.8257 - val_accuracy: 0.8200\n",
            "Epoch 6/20\n",
            "63/63 [==============================] - 1s 14ms/step - loss: 0.2635 - accuracy: 0.9404 - val_loss: 0.8220 - val_accuracy: 0.8270\n",
            "Epoch 7/20\n",
            "63/63 [==============================] - 1s 14ms/step - loss: 0.2154 - accuracy: 0.9468 - val_loss: 0.8662 - val_accuracy: 0.8200\n",
            "Epoch 8/20\n",
            "63/63 [==============================] - 1s 14ms/step - loss: 0.1832 - accuracy: 0.9506 - val_loss: 0.8696 - val_accuracy: 0.8270\n",
            "Epoch 9/20\n",
            "63/63 [==============================] - 1s 15ms/step - loss: 0.1624 - accuracy: 0.9511 - val_loss: 0.8723 - val_accuracy: 0.8200\n",
            "Epoch 10/20\n",
            "63/63 [==============================] - 1s 14ms/step - loss: 0.1459 - accuracy: 0.9545 - val_loss: 0.9084 - val_accuracy: 0.8200\n",
            "Epoch 11/20\n",
            "63/63 [==============================] - 1s 14ms/step - loss: 0.1345 - accuracy: 0.9553 - val_loss: 0.9271 - val_accuracy: 0.8190\n",
            "Epoch 12/20\n",
            "63/63 [==============================] - 1s 14ms/step - loss: 0.1285 - accuracy: 0.9565 - val_loss: 0.9839 - val_accuracy: 0.8110\n",
            "Epoch 13/20\n",
            "63/63 [==============================] - 1s 14ms/step - loss: 0.1209 - accuracy: 0.9579 - val_loss: 1.0427 - val_accuracy: 0.8050\n",
            "Epoch 14/20\n",
            "63/63 [==============================] - 1s 14ms/step - loss: 0.1175 - accuracy: 0.9584 - val_loss: 1.0148 - val_accuracy: 0.8050\n",
            "Epoch 15/20\n",
            "63/63 [==============================] - 1s 14ms/step - loss: 0.1124 - accuracy: 0.9573 - val_loss: 1.0564 - val_accuracy: 0.8100\n",
            "Epoch 16/20\n",
            "63/63 [==============================] - 1s 14ms/step - loss: 0.1110 - accuracy: 0.9553 - val_loss: 1.0739 - val_accuracy: 0.8090\n",
            "Epoch 17/20\n",
            "63/63 [==============================] - 1s 14ms/step - loss: 0.1055 - accuracy: 0.9592 - val_loss: 1.1147 - val_accuracy: 0.8020\n",
            "Epoch 18/20\n",
            "63/63 [==============================] - 1s 14ms/step - loss: 0.1056 - accuracy: 0.9574 - val_loss: 1.1430 - val_accuracy: 0.8050\n",
            "Epoch 19/20\n",
            "63/63 [==============================] - 1s 14ms/step - loss: 0.1034 - accuracy: 0.9550 - val_loss: 1.1615 - val_accuracy: 0.8010\n",
            "Epoch 20/20\n",
            "63/63 [==============================] - 1s 14ms/step - loss: 0.1028 - accuracy: 0.9582 - val_loss: 1.2173 - val_accuracy: 0.8010\n"
          ]
        }
      ]
    },
    {
      "cell_type": "code",
      "metadata": {
        "colab": {
          "base_uri": "https://localhost:8080/",
          "height": 295
        },
        "id": "UlO3A-P8zDkv",
        "outputId": "541c2f02-1f3b-4274-c7d8-41104e30f212"
      },
      "source": [
        "import matplotlib.pyplot as plt\n",
        "\n",
        "loss = results.history['loss']\n",
        "val_loss = results.history['val_accuracy']\n",
        "\n",
        "epochs = range(1, len(loss) + 1)\n",
        "\n",
        "plt.plot(epochs, loss, 'bo', label='Training loss')\n",
        "plt.plot(epochs, val_loss, 'b', label='Validation loss')\n",
        "plt.title('Training and validation loss')\n",
        "plt.xlabel('Epochs')\n",
        "plt.ylabel('Loss')\n",
        "plt.legend()\n",
        "\n",
        "plt.show()"
      ],
      "execution_count": 57,
      "outputs": [
        {
          "output_type": "display_data",
          "data": {
            "image/png": "[encoded data removed]",
            "text/plain": [
              "<Figure size 432x288 with 1 Axes>"
            ]
          },
          "metadata": {
            "needs_background": "light"
          }
        }
      ]
    },
    {
      "cell_type": "code",
      "metadata": {
        "colab": {
          "base_uri": "https://localhost:8080/",
          "height": 295
        },
        "id": "vlsxCzTTzvqF",
        "outputId": "af124f39-4369-43bc-cf97-0ef82bef8a13"
      },
      "source": [
        "plt.clf()\n",
        "\n",
        "acc = results.history['accuracy']\n",
        "val_acc = results.history['val_accuracy']\n",
        "\n",
        "plt.plot(epochs, acc, 'bo', label='Training acc')\n",
        "plt.plot(epochs, val_acc, 'b', label='Validation acc')\n",
        "plt.title('Training and validation accuracy')\n",
        "plt.xlabel('Epochs')\n",
        "plt.ylabel('Loss')\n",
        "plt.legend()\n",
        "\n",
        "plt.show()"
      ],
      "execution_count": 58,
      "outputs": [
        {
          "output_type": "display_data",
          "data": {
            "image/png": "[encoded data removed]",
            "text/plain": [
              "<Figure size 432x288 with 1 Axes>"
            ]
          },
          "metadata": {
            "needs_background": "light"
          }
        }
      ]
    },
    {
      "cell_type": "code",
      "metadata": {
        "colab": {
          "base_uri": "https://localhost:8080/"
        },
        "id": "L33bHfe5yWDU",
        "outputId": "a3201182-972b-40b0-d930-186dd0376cd7"
      },
      "source": [
        "model = models.Sequential()\n",
        "model.add(layers.Dense(128, activation='relu', input_shape=(10000,)))\n",
        "model.add(layers.Dense(64, activation='relu'))\n",
        "model.add(layers.Dense(64, activation='relu'))\n",
        "model.add(layers.Dense(46, activation='softmax'))\n",
        "\n",
        "model.compile(optimizer='rmsprop',\n",
        "              loss='categorical_crossentropy',\n",
        "              metrics=['accuracy'])\n",
        "\n",
        "results = model.fit(partial_x_train,\n",
        "          partial_y_train,\n",
        "          epochs=7,\n",
        "          batch_size=128,\n",
        "          validation_data=(x_val, y_val))"
      ],
      "execution_count": 59,
      "outputs": [
        {
          "output_type": "stream",
          "name": "stdout",
          "text": [
            "Epoch 1/7\n",
            "63/63 [==============================] - 2s 26ms/step - loss: 1.7349 - accuracy: 0.6337 - val_loss: 1.1832 - val_accuracy: 0.7210\n",
            "Epoch 2/7\n",
            "63/63 [==============================] - 2s 24ms/step - loss: 0.8710 - accuracy: 0.8031 - val_loss: 1.0215 - val_accuracy: 0.7730\n",
            "Epoch 3/7\n",
            "63/63 [==============================] - 2s 24ms/step - loss: 0.5617 - accuracy: 0.8780 - val_loss: 0.9070 - val_accuracy: 0.8120\n",
            "Epoch 4/7\n",
            "63/63 [==============================] - 2s 24ms/step - loss: 0.3731 - accuracy: 0.9176 - val_loss: 0.9436 - val_accuracy: 0.8100\n",
            "Epoch 5/7\n",
            "63/63 [==============================] - 2s 24ms/step - loss: 0.2770 - accuracy: 0.9390 - val_loss: 1.0246 - val_accuracy: 0.8000\n",
            "Epoch 6/7\n",
            "63/63 [==============================] - 2s 24ms/step - loss: 0.2200 - accuracy: 0.9475 - val_loss: 1.0083 - val_accuracy: 0.8070\n",
            "Epoch 7/7\n",
            "63/63 [==============================] - 1s 24ms/step - loss: 0.1930 - accuracy: 0.9509 - val_loss: 1.2162 - val_accuracy: 0.7750\n"
          ]
        }
      ]
    },
    {
      "cell_type": "code",
      "metadata": {
        "colab": {
          "base_uri": "https://localhost:8080/",
          "height": 295
        },
        "id": "gSbAl3BqyeDA",
        "outputId": "969b9be1-787b-430a-ee11-0888b61b8575"
      },
      "source": [
        "import matplotlib.pyplot as plt\n",
        "\n",
        "loss = results.history['loss']\n",
        "val_loss = results.history['val_accuracy']\n",
        "\n",
        "epochs = range(1, len(loss) + 1)\n",
        "\n",
        "plt.plot(epochs, loss, 'bo', label='Training loss')\n",
        "plt.plot(epochs, val_loss, 'b', label='Validation loss')\n",
        "plt.title('Training and validation loss')\n",
        "plt.xlabel('Epochs')\n",
        "plt.ylabel('Loss')\n",
        "plt.legend()\n",
        "\n",
        "plt.show()"
      ],
      "execution_count": 60,
      "outputs": [
        {
          "output_type": "display_data",
          "data": {
            "image/png": "[encoded data removed]",
            "text/plain": [
              "<Figure size 432x288 with 1 Axes>"
            ]
          },
          "metadata": {
            "needs_background": "light"
          }
        }
      ]
    },
    {
      "cell_type": "code",
      "metadata": {
        "colab": {
          "base_uri": "https://localhost:8080/",
          "height": 295
        },
        "id": "LJFpnviIz_3A",
        "outputId": "c2a69c5b-8436-47f2-8a85-ef04f22f144a"
      },
      "source": [
        "plt.clf()\n",
        "\n",
        "acc = results.history['accuracy']\n",
        "val_acc = results.history['val_accuracy']\n",
        "\n",
        "plt.plot(epochs, acc, 'bo', label='Training acc')\n",
        "plt.plot(epochs, val_acc, 'b', label='Validation acc')\n",
        "plt.title('Training and validation accuracy')\n",
        "plt.xlabel('Epochs')\n",
        "plt.ylabel('Loss')\n",
        "plt.legend()\n",
        "\n",
        "plt.show()"
      ],
      "execution_count": 61,
      "outputs": [
        {
          "output_type": "display_data",
          "data": {
            "image/png": "[encoded data removed]",
            "text/plain": [
              "<Figure size 432x288 with 1 Axes>"
            ]
          },
          "metadata": {
            "needs_background": "light"
          }
        }
      ]
    },
    {
      "cell_type": "code",
      "metadata": {
        "id": "QYWg44S20bK6"
      },
      "source": [
        ""
      ],
      "execution_count": null,
      "outputs": []
    }
  ]
}