{
  "nbformat": 4,
  "nbformat_minor": 0,
  "metadata": {
    "colab": {
      "name": "keras_deep_dive.ipynb",
      "provenance": [],
      "authorship_tag": "ABX9TyM90t87Vdyo8pCIb2LOUJfT"
    },
    "kernelspec": {
      "name": "python3",
      "display_name": "Python 3"
    },
    "language_info": {
      "name": "python"
    }
  },
  "cells": [
    {
      "cell_type": "code",
      "metadata": {
        "id": "ioBNaCpid7kZ"
      },
      "source": [
        "from tensorflow import keras\n",
        "from tensorflow.keras import layers\n",
        "\n",
        "model = keras.Sequential([\n",
        "  layers.Dense(64, activation='relu'),\n",
        "  layers.Dense(10, activation='softmax')\n",
        "])"
      ],
      "execution_count": 27,
      "outputs": []
    },
    {
      "cell_type": "code",
      "metadata": {
        "id": "amqSnZH7XViY"
      },
      "source": [
        "#model.weights "
      ],
      "execution_count": 28,
      "outputs": []
    },
    {
      "cell_type": "code",
      "metadata": {
        "colab": {
          "base_uri": "https://localhost:8080/"
        },
        "id": "cLq92Kz-XXRD",
        "outputId": "6fd3390d-7333-48aa-8a4d-be769d56e299"
      },
      "source": [
        "model.build(input_shape=(None, 3))\n",
        "model.weights"
      ],
      "execution_count": 29,
      "outputs": [
        {
          "output_type": "execute_result",
          "data": {
            "text/plain": [
              "[<tf.Variable 'dense_12/kernel:0' shape=(3, 64) dtype=float32, numpy=\n",
              " array([[-0.29360458, -0.10948813, -0.21801212, -0.24093549,  0.239075  ,\n",
              "         -0.256562  ,  0.2960062 ,  0.08567244, -0.00675839, -0.09919947,\n",
              "          0.1124748 ,  0.07003149, -0.1517843 ,  0.25199455, -0.05177569,\n",
              "         -0.1388351 ,  0.11077979,  0.0811716 ,  0.16656122,  0.21916002,\n",
              "          0.12878567, -0.17866994, -0.21632227, -0.14339884,  0.26978016,\n",
              "         -0.2653585 ,  0.28402162, -0.02155277, -0.00393188,  0.28135872,\n",
              "         -0.02631408, -0.17090707,  0.21539253, -0.14805768, -0.18438044,\n",
              "          0.14911348,  0.19836056, -0.09905484,  0.25019503, -0.0083054 ,\n",
              "          0.21652389,  0.16363126,  0.00633585,  0.07126731, -0.2143921 ,\n",
              "          0.19324851,  0.16124812,  0.02879688, -0.24082118, -0.19242673,\n",
              "          0.01442295, -0.16843408, -0.12102707, -0.07398023,  0.07294932,\n",
              "         -0.29419914, -0.06792918,  0.02445161,  0.27438915, -0.00433758,\n",
              "         -0.18829107,  0.21749014,  0.02070096, -0.09705876],\n",
              "        [ 0.29585797, -0.20344356,  0.13848513, -0.09316133,  0.13946888,\n",
              "         -0.22905678, -0.19976717, -0.19818354, -0.1668683 ,  0.2055226 ,\n",
              "         -0.29412237, -0.06814614, -0.03395751,  0.07837522, -0.10703327,\n",
              "          0.2878908 ,  0.20799965,  0.0436722 ,  0.21492344,  0.04392982,\n",
              "         -0.03852955,  0.03401354, -0.0998289 ,  0.21692294, -0.16845256,\n",
              "         -0.05826588,  0.1252816 , -0.2653014 , -0.04562947, -0.21294853,\n",
              "         -0.04935373,  0.05715764, -0.07297479, -0.08249639,  0.13121992,\n",
              "         -0.12759788, -0.16167477, -0.23956855, -0.20717424,  0.00523576,\n",
              "         -0.0450564 ,  0.10296905,  0.22669506,  0.23834777,  0.01037905,\n",
              "          0.0078699 ,  0.07648182,  0.03504664, -0.17832512,  0.2158578 ,\n",
              "          0.03702733,  0.09386355, -0.04092789,  0.13681555,  0.00276777,\n",
              "          0.14003575,  0.04052413, -0.1935005 ,  0.07411435,  0.24851102,\n",
              "          0.13711327, -0.08794427,  0.01481423, -0.00606081],\n",
              "        [-0.01200169, -0.24148251,  0.15713373,  0.01000291,  0.15402085,\n",
              "          0.06388533,  0.1353893 , -0.09201635, -0.20898426, -0.2937652 ,\n",
              "          0.17436492, -0.06284489,  0.23291719,  0.07400078,  0.09779143,\n",
              "         -0.0276328 , -0.26325053, -0.19336802, -0.15679276, -0.1988649 ,\n",
              "         -0.01207221,  0.22292107, -0.02510059,  0.23514926, -0.24143428,\n",
              "          0.23967129,  0.12076238,  0.2334497 , -0.11530679, -0.03761566,\n",
              "          0.11366132,  0.01353854,  0.07057673, -0.26579008, -0.09515692,\n",
              "         -0.01906538,  0.05003339, -0.12866752,  0.04625168, -0.14755669,\n",
              "          0.27288687, -0.0479725 , -0.26978132,  0.26160997, -0.1262614 ,\n",
              "          0.19617853,  0.07029113,  0.1644975 , -0.1905739 ,  0.2383672 ,\n",
              "          0.10701379, -0.00408179,  0.21414995, -0.12036261, -0.09034005,\n",
              "         -0.14426443, -0.22739089, -0.00721535, -0.07564326,  0.29375786,\n",
              "          0.04800904,  0.0981409 ,  0.26282924, -0.29725194]],\n",
              "       dtype=float32)>,\n",
              " <tf.Variable 'dense_12/bias:0' shape=(64,) dtype=float32, numpy=\n",
              " array([0., 0., 0., 0., 0., 0., 0., 0., 0., 0., 0., 0., 0., 0., 0., 0., 0.,\n",
              "        0., 0., 0., 0., 0., 0., 0., 0., 0., 0., 0., 0., 0., 0., 0., 0., 0.,\n",
              "        0., 0., 0., 0., 0., 0., 0., 0., 0., 0., 0., 0., 0., 0., 0., 0., 0.,\n",
              "        0., 0., 0., 0., 0., 0., 0., 0., 0., 0., 0., 0., 0.], dtype=float32)>,\n",
              " <tf.Variable 'dense_13/kernel:0' shape=(64, 10) dtype=float32, numpy=\n",
              " array([[-4.27147895e-02,  2.73587495e-01,  2.22871929e-01,\n",
              "         -1.93729132e-01, -1.67976767e-01,  3.28173637e-02,\n",
              "         -8.71641934e-02, -3.83890271e-02, -1.60357922e-01,\n",
              "          2.11109966e-01],\n",
              "        [-1.80415541e-01,  1.67469978e-01,  2.59974450e-01,\n",
              "         -1.64220467e-01,  1.69892251e-01, -5.21442294e-02,\n",
              "         -1.29505664e-01, -1.20714441e-01,  2.46297032e-01,\n",
              "         -1.38805851e-01],\n",
              "        [-1.44050360e-01,  1.91175491e-01, -1.33922935e-01,\n",
              "         -1.08521566e-01,  1.44720972e-01,  7.12010264e-02,\n",
              "          1.09622449e-01,  1.33745939e-01, -2.24030122e-01,\n",
              "          4.10202146e-02],\n",
              "        [-7.23946691e-02, -4.80972975e-02,  2.12769359e-01,\n",
              "         -1.86689511e-01, -1.01050705e-01,  3.00232470e-02,\n",
              "          2.07801312e-01, -2.21330255e-01,  9.59403515e-02,\n",
              "          2.08609730e-01],\n",
              "        [-2.67506838e-02, -2.22515166e-02,  1.71672314e-01,\n",
              "         -3.67775559e-03,  2.05250442e-01, -2.24112406e-01,\n",
              "         -1.39743537e-01, -6.93631470e-02,  6.36717677e-03,\n",
              "          2.05395877e-01],\n",
              "        [ 1.55270785e-01, -4.58843857e-02,  1.20710015e-01,\n",
              "         -2.75116444e-01, -1.74883932e-01,  2.65665919e-01,\n",
              "         -1.33641943e-01,  1.59702390e-01,  1.98305249e-01,\n",
              "         -2.38657638e-01],\n",
              "        [ 5.82379699e-02,  2.51068026e-01,  2.73585320e-04,\n",
              "          7.49790072e-02,  4.83086407e-02,  2.61544555e-01,\n",
              "          8.22204351e-03, -1.72169507e-02, -1.81083232e-01,\n",
              "         -2.11772412e-01],\n",
              "        [-1.50579929e-01,  1.84720665e-01,  2.65794307e-01,\n",
              "          9.98168290e-02, -5.64157963e-05, -8.53837430e-02,\n",
              "          1.04427993e-01, -2.84171432e-01,  2.32879817e-02,\n",
              "         -1.56584173e-01],\n",
              "        [-4.66215312e-02,  6.34741187e-02,  2.18307048e-01,\n",
              "         -2.84045011e-01,  9.31819677e-02,  1.38469517e-01,\n",
              "          2.63919860e-01, -7.53016770e-02,  1.52127594e-01,\n",
              "          2.13506371e-01],\n",
              "        [ 1.80339783e-01,  1.40141100e-01, -2.30966628e-01,\n",
              "         -1.58934146e-01, -2.32823864e-01,  2.30236560e-01,\n",
              "         -1.48623496e-01, -2.22140491e-01, -8.97856653e-02,\n",
              "          1.28530174e-01],\n",
              "        [ 1.60168290e-01, -2.03072846e-01, -1.63903028e-01,\n",
              "         -2.05343589e-01,  2.63232797e-01,  1.91786349e-01,\n",
              "         -2.46684983e-01,  2.46191829e-01,  8.76227319e-02,\n",
              "          2.47068375e-01],\n",
              "        [-2.41227508e-01, -2.71641016e-02, -2.60294080e-02,\n",
              "         -2.31647685e-01,  2.68192738e-01,  3.47465873e-02,\n",
              "          1.39335454e-01, -1.37523696e-01,  1.87783271e-01,\n",
              "          3.89510691e-02],\n",
              "        [-1.84010804e-01, -1.94288939e-01,  1.95464849e-01,\n",
              "          2.71726698e-01, -2.74250120e-01, -1.49527505e-01,\n",
              "          1.28852725e-02,  2.05539644e-01, -2.68642277e-01,\n",
              "         -2.77269185e-02],\n",
              "        [ 2.44637519e-01,  1.28984004e-01,  1.99672192e-01,\n",
              "          1.50640756e-01,  1.09273374e-01, -1.58647254e-01,\n",
              "          6.25638366e-02, -2.52996832e-01,  2.62294382e-01,\n",
              "          2.47503489e-01],\n",
              "        [-6.20754510e-02, -6.92315102e-02, -1.31080821e-01,\n",
              "          8.59743655e-02,  1.05633229e-01, -6.54201508e-02,\n",
              "         -2.66278684e-02,  1.12101346e-01, -1.83456361e-01,\n",
              "          2.59686500e-01],\n",
              "        [-6.17119074e-02,  1.80957347e-01, -1.02760151e-01,\n",
              "          5.55603504e-02, -2.01043695e-01,  2.29173869e-01,\n",
              "         -2.51163065e-01,  2.74689645e-01, -5.73807955e-02,\n",
              "          1.99783474e-01],\n",
              "        [-2.26337805e-01, -1.65373623e-01, -1.00523949e-01,\n",
              "         -1.54640839e-01, -1.33192793e-01,  1.56470329e-01,\n",
              "          2.08445638e-01, -1.75560415e-02,  2.36069590e-01,\n",
              "          1.60211354e-01],\n",
              "        [ 1.70728862e-02, -1.26704827e-01, -2.83678830e-01,\n",
              "          2.20625848e-01, -1.72612160e-01, -2.09095746e-01,\n",
              "          2.09679663e-01, -1.72073260e-01, -1.71320170e-01,\n",
              "          5.49900532e-03],\n",
              "        [ 4.65770662e-02,  1.65939361e-01,  1.96322799e-03,\n",
              "          1.18216872e-01, -5.54644167e-02,  8.51857662e-03,\n",
              "         -1.89434260e-01,  3.18187773e-02, -5.74308932e-02,\n",
              "         -2.31839329e-01],\n",
              "        [ 2.42081583e-02,  2.60433346e-01, -5.48963249e-02,\n",
              "         -2.82859206e-01,  1.43258840e-01,  1.18783861e-01,\n",
              "         -8.43007118e-02,  1.54242128e-01, -1.23657420e-01,\n",
              "          2.00429589e-01],\n",
              "        [ 1.50033832e-03,  1.72238708e-01,  1.51071995e-01,\n",
              "         -2.79810429e-01, -1.84588745e-01, -1.51401997e-01,\n",
              "          1.50660425e-01,  2.13381350e-02, -2.58070171e-01,\n",
              "         -1.04544461e-02],\n",
              "        [ 2.81389385e-01,  1.74603492e-01, -6.79731220e-02,\n",
              "          9.44554806e-04,  2.07765818e-01, -2.62262791e-01,\n",
              "          8.26865137e-02,  2.51368314e-01, -2.02655181e-01,\n",
              "         -1.83485687e-01],\n",
              "        [-2.64140069e-02, -2.04443932e-02, -1.88788712e-01,\n",
              "          1.92893565e-01, -2.15225309e-01,  1.74855828e-01,\n",
              "         -2.20784277e-01,  1.06576204e-01,  7.51098990e-02,\n",
              "         -2.57531941e-01],\n",
              "        [ 4.54544425e-02, -2.64822423e-01,  1.62358344e-01,\n",
              "          4.30566669e-02, -2.76127458e-01, -6.22122586e-02,\n",
              "          1.67124271e-01,  2.69957572e-01,  1.18819505e-01,\n",
              "          1.74384952e-01],\n",
              "        [-2.38239303e-01, -3.17390859e-02, -1.34003460e-02,\n",
              "         -2.75825471e-01,  1.70988381e-01, -2.38638818e-02,\n",
              "          1.70357913e-01, -2.61278749e-01, -1.58602580e-01,\n",
              "          7.45129585e-03],\n",
              "        [-1.07966661e-02,  2.62535185e-01,  8.47292840e-02,\n",
              "          6.90339506e-02,  1.97444230e-01, -1.57357499e-01,\n",
              "          1.21712267e-01,  6.21907413e-02,  1.50086582e-01,\n",
              "          2.81009823e-01],\n",
              "        [ 1.70969576e-01,  1.53111249e-01,  5.81901073e-02,\n",
              "         -1.14970952e-01,  1.81063324e-01, -2.61556208e-01,\n",
              "          1.51948839e-01, -3.40488851e-02, -2.02388987e-01,\n",
              "          7.56694376e-02],\n",
              "        [ 2.14306653e-01, -1.68461636e-01,  2.53753632e-01,\n",
              "         -1.60443455e-01, -1.48329467e-01, -2.35745817e-01,\n",
              "         -2.82853693e-01,  2.17229456e-01,  4.23601866e-02,\n",
              "          1.65759772e-01],\n",
              "        [-1.05847344e-01,  1.33734643e-02, -3.12218964e-02,\n",
              "         -9.42764580e-02, -2.52562553e-01,  1.96509659e-02,\n",
              "         -2.45224208e-01, -1.10483423e-01,  3.56828272e-02,\n",
              "         -1.67835951e-02],\n",
              "        [-6.96678311e-02, -1.76647961e-01,  8.34636390e-02,\n",
              "         -4.97123152e-02, -2.70228297e-01, -1.09892040e-01,\n",
              "         -2.89022923e-03,  2.36967891e-01, -2.77034640e-01,\n",
              "          1.10236436e-01],\n",
              "        [ 2.61445731e-01, -2.41958797e-02,  2.97155976e-02,\n",
              "         -1.77551508e-01, -6.93459660e-02, -4.77404147e-02,\n",
              "         -2.24081174e-01, -3.65926176e-02, -5.75858206e-02,\n",
              "          1.68086946e-01],\n",
              "        [-2.58033454e-01,  7.01564550e-03, -2.68133163e-01,\n",
              "          1.35628432e-01, -1.48020238e-01, -1.49840474e-01,\n",
              "         -1.60864174e-01, -7.29644597e-02,  2.44942576e-01,\n",
              "          1.40270144e-01],\n",
              "        [ 3.95694971e-02,  1.89435899e-01,  4.70418930e-02,\n",
              "          1.83609307e-01, -2.02755719e-01,  1.47620499e-01,\n",
              "          5.93250692e-02,  9.50149596e-02, -4.77206558e-02,\n",
              "          2.76773661e-01],\n",
              "        [-3.07001173e-02, -4.97744977e-02, -9.76484418e-02,\n",
              "          2.71915823e-01, -2.73743391e-01,  2.66275316e-01,\n",
              "         -1.05811909e-01, -2.47179344e-01, -1.70021519e-01,\n",
              "         -4.71380353e-02],\n",
              "        [-9.16942954e-02,  1.78271323e-01,  8.07534456e-02,\n",
              "          1.14533603e-01,  1.65136904e-01, -5.95727563e-03,\n",
              "          2.33929068e-01,  1.63320601e-02, -2.28035241e-01,\n",
              "          2.18728989e-01],\n",
              "        [ 2.49395519e-01, -2.51931041e-01,  2.76042521e-02,\n",
              "          2.35552788e-02,  2.26697952e-01, -2.48287708e-01,\n",
              "          2.73250312e-01,  2.19339401e-01,  2.50230163e-01,\n",
              "          7.69378543e-02],\n",
              "        [-2.63862014e-01, -2.24591702e-01,  2.02194631e-01,\n",
              "          1.25044405e-01,  2.61178344e-01, -1.37707755e-01,\n",
              "          1.71627104e-02, -6.92327321e-02,  1.54527932e-01,\n",
              "         -1.32004187e-01],\n",
              "        [-8.47131312e-02,  1.99321836e-01, -1.46337330e-01,\n",
              "         -5.71916550e-02, -2.20606819e-01,  2.76834518e-01,\n",
              "          6.06666207e-02,  2.17031330e-01, -2.02332437e-01,\n",
              "         -5.46794832e-02],\n",
              "        [-1.88707650e-01, -1.84797034e-01,  1.07622296e-01,\n",
              "          1.54643297e-01,  1.22666121e-01,  2.17424363e-01,\n",
              "         -1.29636288e-01,  4.98108268e-02, -1.48698926e-01,\n",
              "          2.09900737e-02],\n",
              "        [-1.50503203e-01,  2.24143654e-01,  1.23703182e-01,\n",
              "         -1.30580217e-01,  1.30776554e-01, -1.77448511e-01,\n",
              "         -5.07789850e-03, -5.49338609e-02,  1.89354897e-01,\n",
              "         -2.65362859e-02],\n",
              "        [-1.80418789e-01, -8.18524957e-02,  1.17799878e-01,\n",
              "          1.43261671e-01, -1.10913813e-02,  2.69980431e-02,\n",
              "          1.25111192e-01,  2.22122103e-01, -1.64501131e-01,\n",
              "          1.15542501e-01],\n",
              "        [-4.17115241e-02,  1.58062458e-01,  2.84073800e-01,\n",
              "         -1.61342442e-01,  1.46563202e-01, -1.06107622e-01,\n",
              "         -1.33216545e-01,  2.78090209e-01, -1.45251721e-01,\n",
              "          2.24963099e-01],\n",
              "        [ 2.00845808e-01, -3.77097279e-02,  8.47309828e-04,\n",
              "          2.15431839e-01, -1.19187474e-01, -1.31637722e-01,\n",
              "         -1.49561241e-01, -5.59008121e-02, -8.07240605e-03,\n",
              "         -2.58539557e-01],\n",
              "        [-8.77037644e-03,  1.15668774e-03, -3.90174091e-02,\n",
              "         -2.53403276e-01,  2.36037821e-01, -1.30237237e-01,\n",
              "          1.39431387e-01,  2.36701757e-01, -5.71430475e-02,\n",
              "          2.96041965e-02],\n",
              "        [-1.62141085e-01,  1.25306785e-01,  2.20179260e-02,\n",
              "          1.42692357e-01, -1.78332627e-01,  2.09579945e-01,\n",
              "          6.80878758e-03, -2.32722104e-01, -1.80024296e-01,\n",
              "          2.47465044e-01],\n",
              "        [ 2.05791056e-01,  2.79617637e-01, -2.34940857e-01,\n",
              "         -2.64798671e-01, -8.16435367e-02, -3.60170454e-02,\n",
              "          2.12105334e-01,  2.65892476e-01,  6.37217760e-02,\n",
              "          2.50069112e-01],\n",
              "        [-2.22503096e-01,  4.85779643e-02,  2.09001452e-01,\n",
              "          3.50915790e-02,  5.22402227e-02,  2.37791091e-01,\n",
              "          1.53745860e-01, -7.44764060e-02,  8.40037465e-02,\n",
              "          2.45869905e-01],\n",
              "        [ 1.12793535e-01,  2.04509228e-01, -1.47824377e-01,\n",
              "          2.83819139e-02, -6.74179196e-02,  7.16515481e-02,\n",
              "         -1.70837075e-01,  2.44442552e-01, -9.00276899e-02,\n",
              "          3.06967199e-02],\n",
              "        [-1.11157820e-01, -2.58087814e-02,  5.77823520e-02,\n",
              "          2.70905346e-01,  1.11684024e-01, -8.29068720e-02,\n",
              "          2.65264302e-01, -2.01396942e-02,  1.48900151e-01,\n",
              "         -1.42800182e-01],\n",
              "        [-1.50157720e-01, -9.34883356e-02, -4.43156809e-02,\n",
              "         -9.81400311e-02,  1.95084542e-01,  2.53959298e-02,\n",
              "         -1.27595365e-02,  9.34881270e-02, -2.64257312e-01,\n",
              "         -2.39322409e-01],\n",
              "        [-3.07114422e-02,  2.05107391e-01, -4.92702872e-02,\n",
              "         -1.97135866e-01, -6.47017509e-02,  1.03605449e-01,\n",
              "         -2.79571652e-01, -1.54823065e-01,  1.10899448e-01,\n",
              "         -1.03669599e-01],\n",
              "        [ 1.21394277e-01,  1.92742705e-01,  1.04825497e-02,\n",
              "          1.04909986e-01,  2.27397710e-01,  1.73910737e-01,\n",
              "          6.97833896e-02, -2.21956521e-01,  2.61293799e-01,\n",
              "         -2.74252892e-01],\n",
              "        [-5.76915890e-02,  2.54344344e-02,  5.68503737e-02,\n",
              "         -7.23640472e-02,  1.12056434e-02,  3.76984477e-02,\n",
              "          6.63491488e-02, -9.46407616e-02, -1.07256517e-01,\n",
              "          2.60831445e-01],\n",
              "        [-1.63076878e-01, -1.14257365e-01, -1.08072534e-01,\n",
              "         -1.80520892e-01,  1.07267231e-01, -1.81294978e-01,\n",
              "          2.17994720e-01, -1.37379766e-02, -2.73993552e-01,\n",
              "         -1.33620754e-01],\n",
              "        [-8.55067521e-02, -1.55156255e-02, -2.27567136e-01,\n",
              "          2.42001027e-01, -9.64197218e-02,  1.05306685e-01,\n",
              "         -1.91541746e-01,  4.63801920e-02,  2.50508338e-01,\n",
              "          1.07075930e-01],\n",
              "        [-2.00635210e-01,  1.14101231e-01, -3.36590707e-02,\n",
              "         -1.74179047e-01, -2.03572512e-01,  2.74808079e-01,\n",
              "          8.69247615e-02,  1.30515516e-01,  2.05141336e-01,\n",
              "         -4.74801660e-03],\n",
              "        [-1.69183016e-02, -2.11591750e-01,  5.35027683e-02,\n",
              "         -7.47648776e-02,  7.45736957e-02,  1.39043182e-01,\n",
              "          1.63238734e-01, -9.67561752e-02,  2.30061203e-01,\n",
              "         -1.57928303e-01],\n",
              "        [ 9.20955241e-02, -1.11489266e-01, -1.45845875e-01,\n",
              "          1.67443156e-01, -1.85252026e-01,  1.26525670e-01,\n",
              "          1.24949485e-01, -2.77990133e-01, -5.87306917e-02,\n",
              "          2.35595405e-02],\n",
              "        [-4.19967175e-02,  9.92855132e-02, -2.46843576e-01,\n",
              "         -5.42388111e-02,  1.01198852e-01,  1.35482818e-01,\n",
              "          1.94148064e-01,  2.74504751e-01,  1.38433427e-01,\n",
              "          1.17821068e-01],\n",
              "        [-6.36815131e-02, -1.49771154e-01,  9.54144299e-02,\n",
              "          8.11186731e-02,  2.44614810e-01,  1.60380244e-01,\n",
              "          1.86291188e-01,  2.42908865e-01,  8.65441561e-02,\n",
              "         -6.03169948e-02],\n",
              "        [ 1.96358800e-01,  3.33067179e-02, -8.50703716e-02,\n",
              "          1.58059865e-01, -1.28348559e-01,  1.96537495e-01,\n",
              "         -9.06087607e-02, -1.95800006e-01, -2.08407626e-01,\n",
              "          1.04437828e-01],\n",
              "        [ 2.71773636e-02,  2.30921179e-01, -1.75446332e-01,\n",
              "         -1.23162240e-01, -1.64761811e-01,  2.12955326e-01,\n",
              "          1.65510982e-01, -2.04944193e-01, -2.20959499e-01,\n",
              "         -1.78281248e-01],\n",
              "        [ 3.12367082e-02, -1.29632950e-01,  1.71259820e-01,\n",
              "          1.73695683e-01,  1.00256264e-01, -2.32917219e-01,\n",
              "         -1.24435306e-01,  5.62057793e-02, -1.05025768e-02,\n",
              "          1.91513240e-01],\n",
              "        [-2.10631534e-01, -1.28018856e-03, -4.75681722e-02,\n",
              "         -1.66566104e-01,  5.19599915e-02,  2.04428166e-01,\n",
              "          1.04273319e-01,  1.98348850e-01,  1.75855428e-01,\n",
              "         -9.61337686e-02]], dtype=float32)>,\n",
              " <tf.Variable 'dense_13/bias:0' shape=(10,) dtype=float32, numpy=array([0., 0., 0., 0., 0., 0., 0., 0., 0., 0.], dtype=float32)>]"
            ]
          },
          "metadata": {},
          "execution_count": 29
        }
      ]
    },
    {
      "cell_type": "code",
      "metadata": {
        "colab": {
          "base_uri": "https://localhost:8080/"
        },
        "id": "d7FLxWddXsTI",
        "outputId": "82d3f855-b1ba-4885-ca4a-72011f89653d"
      },
      "source": [
        "model.summary()"
      ],
      "execution_count": 30,
      "outputs": [
        {
          "output_type": "stream",
          "name": "stdout",
          "text": [
            "Model: \"sequential_2\"\n",
            "_________________________________________________________________\n",
            " Layer (type)                Output Shape              Param #   \n",
            "=================================================================\n",
            " dense_12 (Dense)            (None, 64)                256       \n",
            "                                                                 \n",
            " dense_13 (Dense)            (None, 10)                650       \n",
            "                                                                 \n",
            "=================================================================\n",
            "Total params: 906\n",
            "Trainable params: 906\n",
            "Non-trainable params: 0\n",
            "_________________________________________________________________\n"
          ]
        }
      ]
    },
    {
      "cell_type": "code",
      "metadata": {
        "colab": {
          "base_uri": "https://localhost:8080/"
        },
        "id": "5kIYQVe7YDuj",
        "outputId": "1d102c5a-85c6-4112-a53d-aee40d5961a4"
      },
      "source": [
        "model = keras.Sequential(name='my_example_model')\n",
        "model.add(layers.Dense(64, activation='relu', name='my_first_layer'))\n",
        "model.add(layers.Dense(10, activation='softmax', name='my_last_layer'))\n",
        "model.build(input_shape=(32,3,3,3))\n",
        "model.summary()"
      ],
      "execution_count": 31,
      "outputs": [
        {
          "output_type": "stream",
          "name": "stdout",
          "text": [
            "Model: \"my_example_model\"\n",
            "_________________________________________________________________\n",
            " Layer (type)                Output Shape              Param #   \n",
            "=================================================================\n",
            " my_first_layer (Dense)      (32, 3, 3, 64)            256       \n",
            "                                                                 \n",
            " my_last_layer (Dense)       (32, 3, 3, 10)            650       \n",
            "                                                                 \n",
            "=================================================================\n",
            "Total params: 906\n",
            "Trainable params: 906\n",
            "Non-trainable params: 0\n",
            "_________________________________________________________________\n"
          ]
        }
      ]
    },
    {
      "cell_type": "code",
      "metadata": {
        "colab": {
          "base_uri": "https://localhost:8080/"
        },
        "id": "1KTyFVbWZC3Z",
        "outputId": "54b34ccc-8046-4300-9ea7-07c3b5de8b37"
      },
      "source": [
        "model = keras.Sequential()\n",
        "model.add(keras.Input(shape=(3,3,3)))\n",
        "model.add(layers.Dense(64, activation='relu'))\n",
        "model.summary()"
      ],
      "execution_count": 32,
      "outputs": [
        {
          "output_type": "stream",
          "name": "stdout",
          "text": [
            "Model: \"sequential_3\"\n",
            "_________________________________________________________________\n",
            " Layer (type)                Output Shape              Param #   \n",
            "=================================================================\n",
            " dense_14 (Dense)            (None, 3, 3, 64)          256       \n",
            "                                                                 \n",
            "=================================================================\n",
            "Total params: 256\n",
            "Trainable params: 256\n",
            "Non-trainable params: 0\n",
            "_________________________________________________________________\n"
          ]
        }
      ]
    },
    {
      "cell_type": "code",
      "metadata": {
        "colab": {
          "base_uri": "https://localhost:8080/"
        },
        "id": "xnBI-xo_ZjTS",
        "outputId": "d34eb305-efcf-40a9-c46f-d6f923520fc8"
      },
      "source": [
        "model.add(layers.Dense(10, activation='softmax'))\n",
        "model.summary()"
      ],
      "execution_count": 33,
      "outputs": [
        {
          "output_type": "stream",
          "name": "stdout",
          "text": [
            "Model: \"sequential_3\"\n",
            "_________________________________________________________________\n",
            " Layer (type)                Output Shape              Param #   \n",
            "=================================================================\n",
            " dense_14 (Dense)            (None, 3, 3, 64)          256       \n",
            "                                                                 \n",
            " dense_15 (Dense)            (None, 3, 3, 10)          650       \n",
            "                                                                 \n",
            "=================================================================\n",
            "Total params: 906\n",
            "Trainable params: 906\n",
            "Non-trainable params: 0\n",
            "_________________________________________________________________\n"
          ]
        }
      ]
    },
    {
      "cell_type": "code",
      "metadata": {
        "id": "99XJfYEGZzxp"
      },
      "source": [
        "inputs = keras.Input(shape=(3,), name='my_input')\n",
        "features = layers.Dense(64, activation=\"relu\")(inputs)\n",
        "outputs = layers.Dense(10, activation='softmax')(features)\n",
        "model = keras.Model(inputs=inputs, outputs=outputs)"
      ],
      "execution_count": 34,
      "outputs": []
    },
    {
      "cell_type": "code",
      "metadata": {
        "colab": {
          "base_uri": "https://localhost:8080/"
        },
        "id": "JyczgqMdecuM",
        "outputId": "5d8fd5b3-18a3-46c2-85b7-626a82529bd3"
      },
      "source": [
        "model.summary()"
      ],
      "execution_count": 35,
      "outputs": [
        {
          "output_type": "stream",
          "name": "stdout",
          "text": [
            "Model: \"model_4\"\n",
            "_________________________________________________________________\n",
            " Layer (type)                Output Shape              Param #   \n",
            "=================================================================\n",
            " my_input (InputLayer)       [(None, 3)]               0         \n",
            "                                                                 \n",
            " dense_16 (Dense)            (None, 64)                256       \n",
            "                                                                 \n",
            " dense_17 (Dense)            (None, 10)                650       \n",
            "                                                                 \n",
            "=================================================================\n",
            "Total params: 906\n",
            "Trainable params: 906\n",
            "Non-trainable params: 0\n",
            "_________________________________________________________________\n"
          ]
        }
      ]
    },
    {
      "cell_type": "code",
      "metadata": {
        "colab": {
          "base_uri": "https://localhost:8080/"
        },
        "id": "x1RxieAKegi2",
        "outputId": "867cc7f8-b2e4-4826-d49f-cdc982eb359f"
      },
      "source": [
        "inputs.shape"
      ],
      "execution_count": 36,
      "outputs": [
        {
          "output_type": "execute_result",
          "data": {
            "text/plain": [
              "TensorShape([None, 3])"
            ]
          },
          "metadata": {},
          "execution_count": 36
        }
      ]
    },
    {
      "cell_type": "code",
      "metadata": {
        "id": "1soMWhFgerJ2"
      },
      "source": [
        " vocabulary_size = 10000\n",
        " num_tags = 100\n",
        " num_departments = 4\n",
        "\n",
        " title =  keras.Input(shape=(vocabulary_size,), name='title')\n",
        " text_body = keras.Input(shape=(vocabulary_size), name='text_body')\n",
        " tags = keras.Input(shape=(num_tags,), name='tags')\n",
        "\n",
        " features = layers.Concatenate()([title, text_body, tags])\n",
        " features = layers.Dense(64, activation='relu')(features)\n",
        "\n",
        " priority = layers.Dense(1, activation='sigmoid', name='priority')(features)\n",
        " department = layers.Dense(\n",
        "     num_departments, activation = 'softmax', name = 'deparment')(features)\n",
        "\n",
        "model = keras.Model(inputs=[title, text_body, tags],\n",
        "                    outputs=[priority, department])"
      ],
      "execution_count": 37,
      "outputs": []
    },
    {
      "cell_type": "code",
      "metadata": {
        "colab": {
          "base_uri": "https://localhost:8080/"
        },
        "id": "s8YyiJFDu8kU",
        "outputId": "b363243e-eaea-4a68-c49b-0e8d16b5a965"
      },
      "source": [
        "import numpy as np\n",
        "\n",
        "num_samples = 1280\n",
        "\n",
        "title_data = np.random.randint(0, 2, size=(num_samples, vocabulary_size))\n",
        "text_body_data = np.random.randint(0, 2, size = (num_samples, vocabulary_size))\n",
        "tags_data = np.random.randint(0, 2, size=(num_samples, num_tags))\n",
        "\n",
        "priority_data = np.random.random(size=(num_samples, 1))\n",
        "department_data = np.random.randint(0, 2, size=(num_samples, num_departments))\n",
        "\n",
        "model.compile(optimizer='rmsprop',\n",
        "              loss=['mean_squared_error', 'categorical_crossentropy'],\n",
        "              metrics=[['mean_absolute_error'], ['accuracy']])\n",
        "model.fit([title_data, text_body_data, tags_data],\n",
        "          [priority_data, department_data],\n",
        "          epochs=5)\n",
        "\n",
        "model.evaluate([title_data, text_body_data, tags_data],\n",
        "               [priority_data, department_data])\n",
        "\n",
        "priority_preds, department_preds = model.predict(\n",
        "    [title_data, text_body_data, tags_data]\n",
        ")"
      ],
      "execution_count": 38,
      "outputs": [
        {
          "output_type": "stream",
          "name": "stdout",
          "text": [
            "Epoch 1/5\n",
            "40/40 [==============================] - 1s 17ms/step - loss: 23.8183 - priority_loss: 0.3451 - deparment_loss: 23.4731 - priority_mean_absolute_error: 0.5102 - deparment_accuracy: 0.2703\n",
            "Epoch 2/5\n",
            "40/40 [==============================] - 1s 16ms/step - loss: 20.7795 - priority_loss: 0.3506 - deparment_loss: 20.4290 - priority_mean_absolute_error: 0.5148 - deparment_accuracy: 0.2313\n",
            "Epoch 3/5\n",
            "40/40 [==============================] - 1s 16ms/step - loss: 27.1293 - priority_loss: 0.3506 - deparment_loss: 26.7787 - priority_mean_absolute_error: 0.5148 - deparment_accuracy: 0.2570\n",
            "Epoch 4/5\n",
            "40/40 [==============================] - 1s 17ms/step - loss: 34.7653 - priority_loss: 0.3506 - deparment_loss: 34.4147 - priority_mean_absolute_error: 0.5148 - deparment_accuracy: 0.2516\n",
            "Epoch 5/5\n",
            "40/40 [==============================] - 1s 16ms/step - loss: 41.6253 - priority_loss: 0.3506 - deparment_loss: 41.2747 - priority_mean_absolute_error: 0.5148 - deparment_accuracy: 0.2594\n",
            "40/40 [==============================] - 0s 6ms/step - loss: 43.5612 - priority_loss: 0.3506 - deparment_loss: 43.2106 - priority_mean_absolute_error: 0.5148 - deparment_accuracy: 0.1305\n"
          ]
        }
      ]
    },
    {
      "cell_type": "code",
      "metadata": {
        "colab": {
          "base_uri": "https://localhost:8080/",
          "height": 369
        },
        "id": "ZdJG4Pz4z2_A",
        "outputId": "746c116c-defd-4786-d169-aafeff3f9e1b"
      },
      "source": [
        "keras.utils.plot_model(model, \"ticket_classifier.png\")"
      ],
      "execution_count": 39,
      "outputs": [
        {
          "output_type": "execute_result",
          "data": {
            "image/png": "[encoded data removed]",
            "text/plain": [
              "<IPython.core.display.Image object>"
            ]
          },
          "metadata": {},
          "execution_count": 39
        }
      ]
    },
    {
      "cell_type": "code",
      "metadata": {
        "colab": {
          "base_uri": "https://localhost:8080/",
          "height": 422
        },
        "id": "-KhFJa270iqY",
        "outputId": "5e602f7e-88d3-44d1-95b4-88ed343db3e6"
      },
      "source": [
        "keras.utils.plot_model(model, \"ticket_classifier.png\", show_shapes=True)"
      ],
      "execution_count": 40,
      "outputs": [
        {
          "output_type": "execute_result",
          "data": {
            "image/png": "[encoded data removed]",
            "text/plain": [
              "<IPython.core.display.Image object>"
            ]
          },
          "metadata": {},
          "execution_count": 40
        }
      ]
    },
    {
      "cell_type": "code",
      "metadata": {
        "colab": {
          "base_uri": "https://localhost:8080/"
        },
        "id": "WplT43WX1ErU",
        "outputId": "4070a389-c6be-4bd7-8336-38bfdecc2982"
      },
      "source": [
        "model.layers"
      ],
      "execution_count": 41,
      "outputs": [
        {
          "output_type": "execute_result",
          "data": {
            "text/plain": [
              "[<keras.engine.input_layer.InputLayer at 0x7fec51000f50>,\n",
              " <keras.engine.input_layer.InputLayer at 0x7fec51000f90>,\n",
              " <keras.engine.input_layer.InputLayer at 0x7fec51001550>,\n",
              " <keras.layers.merge.Concatenate at 0x7fec50fff210>,\n",
              " <keras.layers.core.dense.Dense at 0x7fec510851d0>,\n",
              " <keras.layers.core.dense.Dense at 0x7fec50ff0f50>,\n",
              " <keras.layers.core.dense.Dense at 0x7fec4e725f90>]"
            ]
          },
          "metadata": {},
          "execution_count": 41
        }
      ]
    },
    {
      "cell_type": "code",
      "metadata": {
        "colab": {
          "base_uri": "https://localhost:8080/"
        },
        "id": "BRUqdDjQ1pnd",
        "outputId": "745e70d3-3d5c-405b-d6be-78b0d5f87ecd"
      },
      "source": [
        "model.layers[3].input"
      ],
      "execution_count": 42,
      "outputs": [
        {
          "output_type": "execute_result",
          "data": {
            "text/plain": [
              "[<KerasTensor: shape=(None, 10000) dtype=float32 (created by layer 'title')>,\n",
              " <KerasTensor: shape=(None, 10000) dtype=float32 (created by layer 'text_body')>,\n",
              " <KerasTensor: shape=(None, 100) dtype=float32 (created by layer 'tags')>]"
            ]
          },
          "metadata": {},
          "execution_count": 42
        }
      ]
    },
    {
      "cell_type": "code",
      "metadata": {
        "colab": {
          "base_uri": "https://localhost:8080/"
        },
        "id": "Myss4iQ51tDM",
        "outputId": "3bce255e-ad98-400c-ae89-b534b28e878d"
      },
      "source": [
        "model.layers[4]"
      ],
      "execution_count": 43,
      "outputs": [
        {
          "output_type": "execute_result",
          "data": {
            "text/plain": [
              "<keras.layers.core.dense.Dense at 0x7fec510851d0>"
            ]
          },
          "metadata": {},
          "execution_count": 43
        }
      ]
    },
    {
      "cell_type": "code",
      "metadata": {
        "colab": {
          "base_uri": "https://localhost:8080/"
        },
        "id": "9dm_579M2Vac",
        "outputId": "712ea8a2-bd0d-4399-c776-4689f3c3e8be"
      },
      "source": [
        "model.layers[3].output"
      ],
      "execution_count": 44,
      "outputs": [
        {
          "output_type": "execute_result",
          "data": {
            "text/plain": [
              "<KerasTensor: shape=(None, 20100) dtype=float32 (created by layer 'concatenate_2')>"
            ]
          },
          "metadata": {},
          "execution_count": 44
        }
      ]
    },
    {
      "cell_type": "markdown",
      "metadata": {
        "id": "XQsbEu1OZVpq"
      },
      "source": [
        "Let’s say you want to add another output to the previous model—you want to esti-\n",
        "mate how long a given issue ticket will take to resolve, a kind of difficulty rating. You\n",
        "could do this via a classification layer over three categories: “quick,” “medium,” and\n",
        "“difficult.” You don’t need to recreate and retrain a model from scratch. You can start\n",
        "from the intermediate features of your previous model, since you have access to them,\n",
        "like this."
      ]
    },
    {
      "cell_type": "code",
      "metadata": {
        "id": "MudyGjT42hwl"
      },
      "source": [
        "features = model.layers[4].output\n",
        "difficulty = layers.Dense(3, activation='softmax', name='difficaulty')(features)\n",
        "\n",
        "new_model = keras.Model(\n",
        "    inputs = [title, text_body, tags],\n",
        "    outputs = [priority, department, difficulty]\n",
        ")"
      ],
      "execution_count": 45,
      "outputs": []
    },
    {
      "cell_type": "code",
      "metadata": {
        "colab": {
          "base_uri": "https://localhost:8080/",
          "height": 422
        },
        "id": "zkysP7n4WhsW",
        "outputId": "37487b61-4bd1-4193-9358-5cb040fafb22"
      },
      "source": [
        "keras.utils.plot_model(new_model, \"updated_ticket_classification.png\", show_shapes=True)"
      ],
      "execution_count": 46,
      "outputs": [
        {
          "output_type": "execute_result",
          "data": {
            "image/png": "[encoded data removed]",
            "text/plain": [
              "<IPython.core.display.Image object>"
            ]
          },
          "metadata": {},
          "execution_count": 46
        }
      ]
    },
    {
      "cell_type": "code",
      "metadata": {
        "id": "15SfXldGYhwb"
      },
      "source": [
        "# Subclassed Model\n",
        "\n",
        "class CustomerTicketModel(keras.Model):\n",
        "\n",
        "  def __init__(self, num_departments):\n",
        "    super().__init__() # initializer a keras model\n",
        "    self.concat_layer = layers.Concatenate()\n",
        "    self.mixing_layer = layers.Dense(64, activation='relu')\n",
        "    self.priority_scorer = layers.Dense(1, activation='sigmoid')\n",
        "    self.department_classifier = layers.Dense(\n",
        "        num_departments, activation='softmax')\n",
        "    \n",
        "  def call(self, inputs):\n",
        "    title = inputs['title']\n",
        "    text_body = inputs['text_body']\n",
        "    tags = inputs['tags']\n",
        "\n",
        "    features = self.concat_layer([title, text_body, tags])\n",
        "    features = self.mixing_layer(features)\n",
        "\n",
        "    priority = self.priority_scorer(features)\n",
        "    department = self.department_classifier(features)\n",
        "    return priority, department"
      ],
      "execution_count": 47,
      "outputs": []
    },
    {
      "cell_type": "code",
      "metadata": {
        "id": "X5-15zOrgBDt"
      },
      "source": [
        "model = CustomerTicketModel(num_departments=4)\n",
        "\n",
        "priority, department = model(\n",
        "    {'title': title_data, \"text_body\": text_body_data, \"tags\": tags_data}\n",
        ")"
      ],
      "execution_count": 48,
      "outputs": []
    },
    {
      "cell_type": "code",
      "metadata": {
        "colab": {
          "base_uri": "https://localhost:8080/"
        },
        "id": "yUuyChXEgWvB",
        "outputId": "b56249de-e385-42c4-8021-1f63b378927e"
      },
      "source": [
        "model.compile(optimizer=\"rmsprop\",\n",
        "              loss=[\"mean_squared_error\", 'categorical_crossentropy'],\n",
        "              metrics=[['mean_absolute_error'], ['accuracy']])\n",
        "\n",
        "model.fit({'title':title_data,\n",
        "           'text_body': text_body_data,\n",
        "           'tags': tags_data},\n",
        "          [priority_data, department_data],\n",
        "          epochs=5)\n",
        "model.evaluate({'title':title_data,\n",
        "           'text_body': text_body_data,\n",
        "           'tags': tags_data},\n",
        "            [priority_data, department_data])\n",
        "\n",
        "priority_pred, department_preds = model.predict({'title':title_data,\n",
        "                                                  'text_body': text_body_data,\n",
        "                                                  'tags': tags_data})"
      ],
      "execution_count": 49,
      "outputs": [
        {
          "output_type": "stream",
          "name": "stdout",
          "text": [
            "Epoch 1/5\n",
            "40/40 [==============================] - 1s 20ms/step - loss: 69.7489 - output_1_loss: 0.3466 - output_2_loss: 69.4023 - output_1_mean_absolute_error: 0.5117 - output_2_accuracy: 0.2953\n",
            "Epoch 2/5\n",
            "40/40 [==============================] - 1s 18ms/step - loss: 40.0011 - output_1_loss: 0.3506 - output_2_loss: 39.6505 - output_1_mean_absolute_error: 0.5148 - output_2_accuracy: 0.2734\n",
            "Epoch 3/5\n",
            "40/40 [==============================] - 1s 18ms/step - loss: 36.6993 - output_1_loss: 0.3506 - output_2_loss: 36.3488 - output_1_mean_absolute_error: 0.5148 - output_2_accuracy: 0.2664\n",
            "Epoch 4/5\n",
            "40/40 [==============================] - 1s 18ms/step - loss: 43.5415 - output_1_loss: 0.3506 - output_2_loss: 43.1910 - output_1_mean_absolute_error: 0.5148 - output_2_accuracy: 0.2555\n",
            "Epoch 5/5\n",
            "40/40 [==============================] - 1s 19ms/step - loss: 55.0599 - output_1_loss: 0.3506 - output_2_loss: 54.7093 - output_1_mean_absolute_error: 0.5148 - output_2_accuracy: 0.2523\n",
            "40/40 [==============================] - 0s 7ms/step - loss: 42.1435 - output_1_loss: 0.3506 - output_2_loss: 41.7929 - output_1_mean_absolute_error: 0.5148 - output_2_accuracy: 0.1344\n"
          ]
        }
      ]
    },
    {
      "cell_type": "code",
      "metadata": {
        "id": "myGpkh9ZiEJ1"
      },
      "source": [
        "class Classifier(keras.Model):\n",
        "\n",
        "  def __init__(self, num_classes=2):\n",
        "    super().__init__()\n",
        "    if num_classes == 2:\n",
        "      num_units = 1\n",
        "      activation = 'sigmoid'\n",
        "    else:\n",
        "      num_units = num_classes\n",
        "      activation = 'softmax'\n",
        "    self.dense = layers.Dense(num_units, activation=activation)\n",
        "\n",
        "  def call(self, inputs):\n",
        "    return self.dense(inputs)\n",
        "\n",
        "inputs = keras.Input(shape=(3,))\n",
        "features = layers.Dense(64, activation='relu')(inputs)\n",
        "outputs = Classifier(num_classes=10)(features)\n",
        "model = keras.Model(inputs=inputs, outputs=outputs)"
      ],
      "execution_count": 50,
      "outputs": []
    },
    {
      "cell_type": "code",
      "metadata": {
        "colab": {
          "base_uri": "https://localhost:8080/"
        },
        "id": "t2jE2vyCknKY",
        "outputId": "e739bb3c-7452-469e-c088-cb45a6a1b162"
      },
      "source": [
        "from tensorflow.keras.datasets import mnist\n",
        "\n",
        "def get_mnist_model():\n",
        "  inputs = keras.Input(shape=(28*28,))\n",
        "  features = layers.Dense(512, activation=\"relu\")(inputs)\n",
        "  features = layers.Dropout(0.5)(features)\n",
        "  outputs = layers.Dense(10, activation=\"softmax\")(features)\n",
        "  model = keras.Model(inputs, outputs)\n",
        "  return model\n",
        "\n",
        "(images, labels), (test_images, test_labels) = mnist.load_data()\n",
        "images = images.reshape((60000, 28*28)).astype('float32')/255\n",
        "test_images = test_images.reshape((10000, 28*28)).astype('float32')/255\n",
        "train_images, val_images = images[10000:], images[:10000]\n",
        "train_labels, val_labels = labels[10000:], labels[:10000]\n",
        "\n",
        "model = get_mnist_model()\n",
        "model.compile(optimizer=\"rmsprop\",\n",
        "              loss='sparse_categorical_crossentropy',\n",
        "              metrics=['accuracy'])\n",
        "model.fit(train_images, train_labels,\n",
        "          epochs=4,\n",
        "          validation_data = (val_images, val_labels))\n",
        "test_metrics = model.evaluate(test_images, test_labels)\n",
        "predictions = model.predict(test_images)"
      ],
      "execution_count": 54,
      "outputs": [
        {
          "output_type": "stream",
          "name": "stdout",
          "text": [
            "Epoch 1/4\n",
            "1563/1563 [==============================] - 10s 6ms/step - loss: 0.2948 - accuracy: 0.9119 - val_loss: 0.1434 - val_accuracy: 0.9590\n",
            "Epoch 2/4\n",
            "1563/1563 [==============================] - 9s 6ms/step - loss: 0.1667 - accuracy: 0.9535 - val_loss: 0.1264 - val_accuracy: 0.9651\n",
            "Epoch 3/4\n",
            "1563/1563 [==============================] - 9s 6ms/step - loss: 0.1402 - accuracy: 0.9623 - val_loss: 0.1179 - val_accuracy: 0.9711\n",
            "Epoch 4/4\n",
            "1563/1563 [==============================] - 9s 6ms/step - loss: 0.1267 - accuracy: 0.9675 - val_loss: 0.1091 - val_accuracy: 0.9740\n",
            "313/313 [==============================] - 1s 2ms/step - loss: 0.0989 - accuracy: 0.9759\n"
          ]
        }
      ]
    },
    {
      "cell_type": "code",
      "metadata": {
        "colab": {
          "base_uri": "https://localhost:8080/"
        },
        "id": "yA-Ht4xW2_ua",
        "outputId": "59ae5f75-eee1-44ae-a096-2f06e5d1a4db"
      },
      "source": [
        "callbacks_list = [\n",
        "  keras.callbacks.EarlyStopping(\n",
        "      monitor='val_accuracy',\n",
        "      patience=2,\n",
        "  ),\n",
        "  keras.callbacks.ModelCheckpoint(\n",
        "      filepath='checkpoint_path.keras',\n",
        "      monitor='val_loss',\n",
        "      save_best_only=True,\n",
        "  )]\n",
        "  \n",
        "model = get_mnist_model()\n",
        "model.compile(optimizer='rmsprop',\n",
        "              loss='sparse_categorical_crossentropy',\n",
        "              metrics=['accuracy'])\n",
        "model.fit(train_images, train_labels,\n",
        "          epochs=10,\n",
        "          callbacks=callbacks_list,\n",
        "          validation_data = (val_images, val_labels))"
      ],
      "execution_count": 56,
      "outputs": [
        {
          "output_type": "stream",
          "name": "stdout",
          "text": [
            "Epoch 1/10\n",
            "1563/1563 [==============================] - 9s 6ms/step - loss: 0.2944 - accuracy: 0.9129 - val_loss: 0.1409 - val_accuracy: 0.9597\n",
            "Epoch 2/10\n",
            "1563/1563 [==============================] - 9s 6ms/step - loss: 0.1631 - accuracy: 0.9531 - val_loss: 0.1174 - val_accuracy: 0.9672\n",
            "Epoch 3/10\n",
            "1563/1563 [==============================] - 9s 6ms/step - loss: 0.1368 - accuracy: 0.9623 - val_loss: 0.1188 - val_accuracy: 0.9714\n",
            "Epoch 4/10\n",
            "1563/1563 [==============================] - 9s 6ms/step - loss: 0.1240 - accuracy: 0.9679 - val_loss: 0.1116 - val_accuracy: 0.9726\n",
            "Epoch 5/10\n",
            "1563/1563 [==============================] - 9s 6ms/step - loss: 0.1181 - accuracy: 0.9706 - val_loss: 0.1093 - val_accuracy: 0.9745\n",
            "Epoch 6/10\n",
            "1563/1563 [==============================] - 9s 6ms/step - loss: 0.1075 - accuracy: 0.9740 - val_loss: 0.1123 - val_accuracy: 0.9768\n",
            "Epoch 7/10\n",
            "1563/1563 [==============================] - 9s 6ms/step - loss: 0.1064 - accuracy: 0.9749 - val_loss: 0.1181 - val_accuracy: 0.9765\n",
            "Epoch 8/10\n",
            "1563/1563 [==============================] - 9s 6ms/step - loss: 0.1016 - accuracy: 0.9766 - val_loss: 0.1073 - val_accuracy: 0.9776\n",
            "Epoch 9/10\n",
            "1563/1563 [==============================] - 9s 6ms/step - loss: 0.0970 - accuracy: 0.9778 - val_loss: 0.1152 - val_accuracy: 0.9778\n",
            "Epoch 10/10\n",
            "1563/1563 [==============================] - 9s 6ms/step - loss: 0.0963 - accuracy: 0.9786 - val_loss: 0.1147 - val_accuracy: 0.9786\n"
          ]
        },
        {
          "output_type": "execute_result",
          "data": {
            "text/plain": [
              "<keras.callbacks.History at 0x7fec50b2c710>"
            ]
          },
          "metadata": {},
          "execution_count": 56
        }
      ]
    },
    {
      "cell_type": "code",
      "metadata": {
        "colab": {
          "base_uri": "https://localhost:8080/"
        },
        "id": "mwHDahw0LbPH",
        "outputId": "7b62d96d-8dc3-45b4-8346-1b17a4367b3d"
      },
      "source": [
        "model.save('my_checkpoint_path')"
      ],
      "execution_count": 57,
      "outputs": [
        {
          "output_type": "stream",
          "name": "stdout",
          "text": [
            "INFO:tensorflow:Assets written to: my_checkpoint_path/assets\n"
          ]
        }
      ]
    },
    {
      "cell_type": "code",
      "metadata": {
        "colab": {
          "base_uri": "https://localhost:8080/"
        },
        "id": "CpFecRprLsUb",
        "outputId": "a3c6c569-61c5-4603-e2d6-543fae1594c1"
      },
      "source": [
        "loaded_model = keras.models.load_model('checkpoint_path.keras')\n",
        "loaded_model.evaluate(val_images, val_labels)"
      ],
      "execution_count": 59,
      "outputs": [
        {
          "output_type": "stream",
          "name": "stdout",
          "text": [
            "313/313 [==============================] - 1s 2ms/step - loss: 0.1073 - accuracy: 0.9776\n"
          ]
        },
        {
          "output_type": "execute_result",
          "data": {
            "text/plain": [
              "[0.1072724238038063, 0.9775999784469604]"
            ]
          },
          "metadata": {},
          "execution_count": 59
        }
      ]
    },
    {
      "cell_type": "code",
      "metadata": {
        "id": "9rflceQCRClV"
      },
      "source": [
        "from matplotlib import pyplot as plt\n",
        "class LossHistory(keras.callbacks.Callback):\n",
        "  def on_train_begin(self, logs):\n",
        "    self.per_batch_losses = []\n",
        "\n",
        "  def on_batch_end(self, batch, logs):\n",
        "    self.per_batch_losses.append(logs.get('loss'))\n",
        "  \n",
        "  def on_epoch_end(self, epoch, logs):\n",
        "    plt.clf()\n",
        "    plt.plot(range(len(self.per_batch_losses)), self.per_batch_losses,\n",
        "             label='Training loss for each batch')\n",
        "    plt.xlabel(f'Batch (epoch {epoch})')\n",
        "    plt.ylabel(\"Loss\")\n",
        "    plt.legend()\n",
        "    plt.savefig(f'plot_at_epoch_{epoch}')\n",
        "    self.per_batch_losses = []    "
      ],
      "execution_count": 63,
      "outputs": []
    },
    {
      "cell_type": "code",
      "metadata": {
        "colab": {
          "base_uri": "https://localhost:8080/",
          "height": 657
        },
        "id": "O2aRFD1raBjD",
        "outputId": "f41e91fa-c0dd-4e30-e8b4-17fa8a5cc979"
      },
      "source": [
        "model = get_mnist_model()\n",
        "\n",
        "model.compile(optimizer='rmsprop',\n",
        "              loss='sparse_categorical_crossentropy',\n",
        "              metrics=['accuracy'])\n",
        "\n",
        "model.fit(train_images, train_labels,\n",
        "          epochs=10,\n",
        "          callbacks= [LossHistory()],\n",
        "          validation_data = (val_images, val_labels))"
      ],
      "execution_count": 65,
      "outputs": [
        {
          "output_type": "stream",
          "name": "stdout",
          "text": [
            "Epoch 1/10\n",
            "1563/1563 [==============================] - 9s 6ms/step - loss: 0.2901 - accuracy: 0.9132 - val_loss: 0.1558 - val_accuracy: 0.9567\n",
            "Epoch 2/10\n",
            "1563/1563 [==============================] - 9s 6ms/step - loss: 0.1637 - accuracy: 0.9553 - val_loss: 0.1244 - val_accuracy: 0.9674\n",
            "Epoch 3/10\n",
            "1563/1563 [==============================] - 9s 6ms/step - loss: 0.1400 - accuracy: 0.9637 - val_loss: 0.1186 - val_accuracy: 0.9692\n",
            "Epoch 4/10\n",
            "1563/1563 [==============================] - 9s 6ms/step - loss: 0.1246 - accuracy: 0.9679 - val_loss: 0.1077 - val_accuracy: 0.9749\n",
            "Epoch 5/10\n",
            "1563/1563 [==============================] - 9s 6ms/step - loss: 0.1190 - accuracy: 0.9706 - val_loss: 0.1050 - val_accuracy: 0.9755\n",
            "Epoch 6/10\n",
            "1563/1563 [==============================] - 9s 6ms/step - loss: 0.1086 - accuracy: 0.9728 - val_loss: 0.1159 - val_accuracy: 0.9754\n",
            "Epoch 7/10\n",
            "1563/1563 [==============================] - 9s 6ms/step - loss: 0.1076 - accuracy: 0.9747 - val_loss: 0.1100 - val_accuracy: 0.9763\n",
            "Epoch 8/10\n",
            "1563/1563 [==============================] - 9s 6ms/step - loss: 0.1035 - accuracy: 0.9757 - val_loss: 0.1079 - val_accuracy: 0.9790\n",
            "Epoch 9/10\n",
            "1563/1563 [==============================] - 9s 6ms/step - loss: 0.0984 - accuracy: 0.9770 - val_loss: 0.1281 - val_accuracy: 0.9760\n",
            "Epoch 10/10\n",
            "1563/1563 [==============================] - 9s 6ms/step - loss: 0.0928 - accuracy: 0.9792 - val_loss: 0.1159 - val_accuracy: 0.9783\n"
          ]
        },
        {
          "output_type": "execute_result",
          "data": {
            "text/plain": [
              "<keras.callbacks.History at 0x7fec48f04710>"
            ]
          },
          "metadata": {},
          "execution_count": 65
        },
        {
          "output_type": "display_data",
          "data": {
            "image/png": "[encoded data removed]",
            "text/plain": [
              "<Figure size 432x288 with 1 Axes>"
            ]
          },
          "metadata": {
            "needs_background": "light"
          }
        }
      ]
    },
    {
      "cell_type": "code",
      "metadata": {
        "colab": {
          "base_uri": "https://localhost:8080/"
        },
        "id": "BnpOiLbQauEO",
        "outputId": "07aeca75-c1f3-4702-b0fd-ea3ddc5c4938"
      },
      "source": [
        "model = get_mnist_model()\n",
        "model.compile(optimizer='rmsprop',\n",
        "              loss='sparse_categorical_crossentropy',\n",
        "              metrics = ['accuracy'])\n",
        "\n",
        "tensorboard = keras.callbacks.TensorBoard(\n",
        "    log_dir = '/content/logs'\n",
        ")\n",
        "\n",
        "model.fit(train_images, train_labels,\n",
        "          epochs=4,\n",
        "          validation_data = (val_images, val_labels),\n",
        "          callbacks = [tensorboard])"
      ],
      "execution_count": 66,
      "outputs": [
        {
          "output_type": "stream",
          "name": "stdout",
          "text": [
            "Epoch 1/4\n",
            "1563/1563 [==============================] - 9s 6ms/step - loss: 0.2983 - accuracy: 0.9113 - val_loss: 0.1559 - val_accuracy: 0.9534\n",
            "Epoch 2/4\n",
            "1563/1563 [==============================] - 9s 6ms/step - loss: 0.1645 - accuracy: 0.9536 - val_loss: 0.1306 - val_accuracy: 0.9640\n",
            "Epoch 3/4\n",
            "1563/1563 [==============================] - 9s 6ms/step - loss: 0.1397 - accuracy: 0.9617 - val_loss: 0.1218 - val_accuracy: 0.9695\n",
            "Epoch 4/4\n",
            "1563/1563 [==============================] - 9s 6ms/step - loss: 0.1251 - accuracy: 0.9674 - val_loss: 0.1097 - val_accuracy: 0.9740\n"
          ]
        },
        {
          "output_type": "execute_result",
          "data": {
            "text/plain": [
              "<keras.callbacks.History at 0x7fec4e7276d0>"
            ]
          },
          "metadata": {},
          "execution_count": 66
        }
      ]
    },
    {
      "cell_type": "code",
      "metadata": {
        "colab": {
          "base_uri": "https://localhost:8080/"
        },
        "id": "J7OhWmaPgwGv",
        "outputId": "83c99376-4a3f-46b0-a669-0c8e897ca056"
      },
      "source": [
        "!tensorboard dev upload --logdir /content/logs \\"
      ],
      "execution_count": 71,
      "outputs": [
        {
          "output_type": "stream",
          "name": "stdout",
          "text": [
            "2021-11-26 00:02:28.175552: E tensorflow/stream_executor/cuda/cuda_driver.cc:271] failed call to cuInit: CUDA_ERROR_NO_DEVICE: no CUDA-capable device is detected\n",
            "\n",
            "***** TensorBoard Uploader *****\n",
            "\n",
            "This will upload your TensorBoard logs to https://tensorboard.dev/ from\n",
            "the following directory:\n",
            "\n",
            "/content/logs\n",
            "\n",
            "This TensorBoard will be visible to everyone. Do not upload sensitive\n",
            "data.\n",
            "\n",
            "Your use of this service is subject to Google's Terms of Service\n",
            "<https://policies.google.com/terms> and Privacy Policy\n",
            "<https://policies.google.com/privacy>, and TensorBoard.dev's Terms of Service\n",
            "<https://tensorboard.dev/policy/terms/>.\n",
            "\n",
            "This notice will not be shown again while you are logged into the uploader.\n",
            "To log out, run `tensorboard dev auth revoke`.\n",
            "\n",
            "Continue? (yes/NO) yes\n",
            "\n",
            "Please visit this URL to authorize this application: https://accounts.google.com/o/oauth2/auth?response_type=code&client_id=373649185512-8v619h5kft38l4456nm2dj4ubeqsrvh6.apps.googleusercontent.com&redirect_uri=urn%3Aietf%3Awg%3Aoauth%3A2.0%3Aoob&scope=openid+https%3A%2F%2Fwww.googleapis.com%2Fauth%2Fuserinfo.email&state=gDa6mqlUGInyZRYQPHXpzVN1NZOkK7&prompt=consent&access_type=offline\n",
            "Enter the authorization code: 4/1AX4XfWhM0ZxjIh6K3HKVIYlIDpTM6XnxNbXZSKj5JrzF9Icnzha9M8kfsqg\n",
            "\n",
            "Upload started and will continue reading any new data as it's added to the logdir.\n",
            "\n",
            "To stop uploading, press Ctrl-C.\n",
            "\n",
            "New experiment created. View your TensorBoard at: https://tensorboard.dev/experiment/rYo6v7oLTz6EOd25kohRyA/\n",
            "\n",
            "\u001b[1m[2021-11-26T00:02:57]\u001b[0m Started scanning logdir.\n",
            "\u001b[1m[2021-11-26T00:02:57]\u001b[0m Total uploaded: 24 scalars, 0 tensors, 1 binary objects (41.3 kB)\n",
            "\n",
            "\n",
            "Interrupted. View your TensorBoard at https://tensorboard.dev/experiment/rYo6v7oLTz6EOd25kohRyA/\n",
            "Traceback (most recent call last):\n",
            "  File \"/usr/local/bin/tensorboard\", line 8, in <module>\n",
            "    sys.exit(run_main())\n",
            "  File \"/usr/local/lib/python3.7/dist-packages/tensorboard/main.py\", line 46, in run_main\n",
            "    app.run(tensorboard.main, flags_parser=tensorboard.configure)\n",
            "  File \"/usr/local/lib/python3.7/dist-packages/absl/app.py\", line 303, in run\n",
            "    _run_main(main, args)\n",
            "  File \"/usr/local/lib/python3.7/dist-packages/absl/app.py\", line 251, in _run_main\n",
            "    sys.exit(main(argv))\n",
            "  File \"/usr/local/lib/python3.7/dist-packages/tensorboard/program.py\", line 276, in main\n",
            "    return runner(self.flags) or 0\n",
            "  File \"/usr/local/lib/python3.7/dist-packages/tensorboard/uploader/uploader_subcommand.py\", line 657, in run\n",
            "    return _run(flags, self._experiment_url_callback)\n",
            "  File \"/usr/local/lib/python3.7/dist-packages/tensorboard/uploader/uploader_subcommand.py\", line 125, in _run\n",
            "    intent.execute(server_info, channel)\n",
            "  File \"/usr/local/lib/python3.7/dist-packages/grpc/_channel.py\", line 1560, in __exit__\n",
            "    self._close()\n",
            "  File \"/usr/local/lib/python3.7/dist-packages/grpc/_channel.py\", line 1548, in _close\n",
            "    self._channel.close(cygrpc.StatusCode.cancelled, 'Channel closed!')\n",
            "  File \"src/python/grpcio/grpc/_cython/_cygrpc/channel.pyx.pxi\", line 515, in grpc._cython.cygrpc.Channel.close\n",
            "  File \"src/python/grpcio/grpc/_cython/_cygrpc/channel.pyx.pxi\", line 399, in grpc._cython.cygrpc._close\n",
            "  File \"src/python/grpcio/grpc/_cython/_cygrpc/channel.pyx.pxi\", line 429, in grpc._cython.cygrpc._close\n",
            "  File \"/usr/lib/python3.7/threading.py\", line 358, in notify_all\n",
            "    def notify_all(self):\n",
            "KeyboardInterrupt\n"
          ]
        }
      ]
    },
    {
      "cell_type": "code",
      "metadata": {
        "id": "Sy-2xaUxiT0J"
      },
      "source": [
        "model = get_mnist_model()\n",
        "\n",
        "loss_fn = keras.losses.SparseCategoricalCrossentropy()\n",
        "optimizer = keras.optimizers.RMSprop()\n",
        "metrics = [keras.metrics.SparseCategoricalAccuracy()]\n",
        "loss_tracking_metric = keras.metrics.Mean()\n",
        "\n",
        "def train_step(inputs, targets):\n",
        "  with tf.GradientTape() as tape:\n",
        "    predictions = model(inputs, training=True)\n",
        "    loss = loss_fn(targets, predictions)\n",
        "  gradients = tape.gradient(loss, model.trainable_weights)\n",
        "  optimizer.apply_gradients(zip(gradients, model.trainable_weights))\n",
        "  logs = {}\n",
        "  for metric in metrics:\n",
        "    metric.update_state(targets, predictions)\n",
        "    logs[metric.name] = metric.result()\n",
        "\n",
        "  loss_tracking_metric.update_state(loss)\n",
        "  logs['loss'] = loss_tracking_metric.result()\n",
        "  return logs"
      ],
      "execution_count": 79,
      "outputs": []
    },
    {
      "cell_type": "code",
      "metadata": {
        "id": "Zb2R6p97tn7T"
      },
      "source": [
        "def reset_metrics():\n",
        "  for metric in metrics:\n",
        "    metric.reset_state()\n",
        "  loss_tracking_metric.reset_state()"
      ],
      "execution_count": 80,
      "outputs": []
    },
    {
      "cell_type": "code",
      "metadata": {
        "id": "zTvmgiZBvAJf"
      },
      "source": [
        "import tensorflow as tf\n"
      ],
      "execution_count": 81,
      "outputs": []
    },
    {
      "cell_type": "code",
      "metadata": {
        "colab": {
          "base_uri": "https://localhost:8080/"
        },
        "id": "iTZQZR6Xt1F_",
        "outputId": "67997cfa-f02f-42bd-e125-80d43fdf5895"
      },
      "source": [
        "training_dataset = tf.data.Dataset.from_tensor_slices(\n",
        "    (train_images, train_labels))\n",
        "\n",
        "training_dataset = training_dataset.batch(32)\n",
        "epochs = 3\n",
        "for epoch in range(epochs):\n",
        "  reset_metrics()\n",
        "  for inputs_batch, targets_batch in  training_dataset:\n",
        "    logs = train_step(inputs_batch, targets_batch)\n",
        "  print(f'Results at the end of epoch {epoch}')\n",
        "  for key, value in logs.items():\n",
        "    print(f'...{key}: {value:.4f}')"
      ],
      "execution_count": 82,
      "outputs": [
        {
          "output_type": "stream",
          "name": "stdout",
          "text": [
            "Results at the end of epoch 0\n",
            "...sparse_categorical_accuracy: 0.9143\n",
            "...loss: 0.2874\n",
            "Results at the end of epoch 1\n",
            "...sparse_categorical_accuracy: 0.9547\n",
            "...loss: 0.1637\n",
            "Results at the end of epoch 2\n",
            "...sparse_categorical_accuracy: 0.9625\n",
            "...loss: 0.1383\n"
          ]
        }
      ]
    },
    {
      "cell_type": "code",
      "metadata": {
        "colab": {
          "base_uri": "https://localhost:8080/"
        },
        "id": "7MxUMIrtu5Pa",
        "outputId": "e83865b5-bfee-4ee8-cf03-1161331bb227"
      },
      "source": [
        "@tf.function\n",
        "def test_step(inputs, targets):\n",
        "  predictions = model(inputs, training=False)\n",
        "  loss = loss_fn(targets, predictions)\n",
        "\n",
        "  logs = {}\n",
        "  for metric in metrics:\n",
        "    metric.update_state(targets, predictions)\n",
        "    logs['val_'+metric.name] = metric.result()\n",
        "    loss_tracking_metric.update_state(loss)\n",
        "    logs['val_loss'] = loss_tracking_metric.result()\n",
        "    return logs\n",
        "  \n",
        "val_dataset = tf.data.Dataset.from_tensor_slices((val_images, val_labels))\n",
        "val_dataset = val_dataset.batch(32)\n",
        "reset_metrics()\n",
        "for inputs_batch, targets_batch, in val_dataset:\n",
        "  logs = test_step(inputs_batch, targets_batch)\n",
        "print(\"Evaluation results\")\n",
        "for key, value in logs.items():\n",
        "  print(f'...{key}: {value:.4f}')"
      ],
      "execution_count": 85,
      "outputs": [
        {
          "output_type": "stream",
          "name": "stdout",
          "text": [
            "Evaluation results\n",
            "...val_sparse_categorical_accuracy: 0.9684\n",
            "...val_loss: 0.1301\n"
          ]
        }
      ]
    },
    {
      "cell_type": "code",
      "metadata": {
        "id": "GiiivmOSxLFU"
      },
      "source": [
        ""
      ],
      "execution_count": null,
      "outputs": []
    }
  ]
}